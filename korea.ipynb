{
 "cells": [
  {
   "cell_type": "code",
   "execution_count": 2,
   "id": "3cba4535-8034-4555-afa0-c9fec060dc1b",
   "metadata": {},
   "outputs": [],
   "source": [
    "# 한국 전체 작품 데이터 수집\n",
    "import pandas as pd\n",
    "\n",
    "import requests\n",
    "from bs4 import BeautifulSoup\n",
    "\n",
    "from selenium import webdriver\n",
    "from selenium.webdriver.common.keys import Keys\n",
    "from selenium.webdriver.common.by import By\n",
    "\n",
    "from time import sleep\n",
    "import time"
   ]
  },
  {
   "cell_type": "code",
   "execution_count": 6,
   "id": "d76bc846-cb36-46a7-97ed-72070b77b4c7",
   "metadata": {},
   "outputs": [],
   "source": [
    "# 1 80여개 작품 이름, 요일(1~7), 순위 구하기 \n",
    "\n",
    "URL = 'https://comic.naver.com/webtoon/weekdayList?week='\n",
    "weeks = [\"mon\", \"tue\", \"wed\", \"thu\", \"fri\", \"sat\", \"sun\"]\n",
    "\n",
    "month_titles = []\n",
    "star_means = []\n",
    "\n",
    "for week in weeks:\n",
    "    day_titles = []\n",
    "    titles = []\n",
    "    day_star_means = []\n",
    "    stars = []\n",
    "    \n",
    "    html = requests.get(URL + week).text\n",
    "    soup = BeautifulSoup(html,'html.parser')\n",
    "    titles = soup.select(\"#content > div.list_area.daily_img > ul > li > dl > dt > a\")\n",
    "    stars = soup.select(\"#content > div.list_area.daily_img > ul > li > dl > dd:nth-child(3) > div > strong\")\n",
    "    \n",
    "    day_titles = [title.text for title in titles[:80]] # 80여개 작품만 선정\n",
    "    day_star_means = [float(star.text) for star in stars[:80]] # float으로 변환\n",
    "    \n",
    "    month_titles.append(day_titles)\n",
    "    star_means.extend(day_star_means)"
   ]
  },
  {
   "cell_type": "code",
   "execution_count": 7,
   "id": "0d397b2d-6586-4a90-973d-612fe5fbe834",
   "metadata": {},
   "outputs": [
    {
     "name": "stdout",
     "output_type": "stream",
     "text": [
      "mon: 80\n",
      "tue: 80\n",
      "wed: 80\n",
      "thu: 80\n",
      "fri: 80\n",
      "sat: 80\n",
      "sun: 80\n"
     ]
    }
   ],
   "source": [
    "for week,week_titles in zip(weeks,month_titles):\n",
    "    print(f\"{week}: {len(week_titles)}\")"
   ]
  },
  {
   "cell_type": "code",
   "execution_count": 8,
   "id": "27c04e97-af8e-4ff5-b7fd-dc39276076c8",
   "metadata": {},
   "outputs": [
    {
     "name": "stderr",
     "output_type": "stream",
     "text": [
      "C:\\Users\\Jung_a\\AppData\\Local\\Temp/ipykernel_17644/1089168130.py:6: DeprecationWarning: executable_path has been deprecated, please pass in a Service object\n",
      "  driver = webdriver.Chrome('chromedriver.exe')\n"
     ]
    }
   ],
   "source": [
    "# 2 작품의 대장르, 소장르, 하트수 구하기\n",
    "\n",
    "from selenium.webdriver.common.by import By\n",
    "\n",
    "URL = 'https://comic.naver.com/webtoon/weekdayList?week='\n",
    "driver = webdriver.Chrome('chromedriver.exe')\n",
    "large_genre_list = []; small_genre_list = []; heart_list = [];\n",
    "\n",
    "for week in weeks:\n",
    "    driver.get(URL+week)\n",
    "    time.sleep(1)\n",
    "    \n",
    "    for i in range(1,81):\n",
    "        genre = []\n",
    "        \n",
    "        # 각 요일 페이지에서 특정 작품으로 이동\n",
    "        page = driver.find_element(by=By.CSS_SELECTOR, \n",
    "                                    value=f\"#content > div.list_area.daily_img > ul > li:nth-child({i}) > div > a\")\n",
    "        page.click()\n",
    "        time.sleep(0.5)\n",
    "\n",
    "         #이동한 페이지 주소 읽고, 파싱하기\n",
    "        html = driver.page_source\n",
    "        soup = BeautifulSoup(html,'html.parser')\n",
    "\n",
    "        #작품 장르 수집\n",
    "        genre = soup.find('span',{'class':'genre'}).text.replace(\",\",\"\").split() \n",
    "        #genre = soup.select(\"#content > div.comicinfo > div.detail > p.detail_info > span.genre\").text\n",
    "        #genre = genre.replace(\",\",\"\").split() # '스토리, 액션' -> [\"스토리\",\"액션\"]\n",
    "        large_genre_list.append(genre[0])\n",
    "        small_genre_list.append(genre[1])\n",
    "\n",
    "        \n",
    "        # 하트 수 수집\n",
    "        heart = int(soup.find('em',{'class':'u_cnt'}).text.replace(\"+\",\"\").replace(\",\",\"\"))\n",
    "        #heart = soup.select(\"#content > div.comicinfo > div.detail > ul > li:nth-child(5) > div > a > em\").text\n",
    "        #heart = heart.replace(\"+\",\"\").replace(\",\",\"\") # 99,999+ 에서 +와, 제거하고 숫자형으로 변환\n",
    "        heart_list.append(heart)        \n",
    "        \n",
    "        driver.back()"
   ]
  },
  {
   "cell_type": "code",
   "execution_count": 9,
   "id": "d9226d79-ebf4-48b5-96c5-0f9858c0e258",
   "metadata": {},
   "outputs": [
    {
     "data": {
      "text/plain": [
       "560"
      ]
     },
     "execution_count": 9,
     "metadata": {},
     "output_type": "execute_result"
    }
   ],
   "source": [
    "len(large_genre_list)"
   ]
  },
  {
   "cell_type": "code",
   "execution_count": 10,
   "id": "1dd25f93-6a3b-4213-9b20-4f2c8246272c",
   "metadata": {},
   "outputs": [],
   "source": [
    "# 3. 데이터프레임 제작\n",
    "## 3.1 [제목, 요일, 순위] row data 제작\n",
    "row_data = []\n",
    "week = \"\"\n",
    "rank = 0\n",
    "titles = \"\"\n",
    "\n",
    "for i, week_titles in enumerate(month_titles):\n",
    "    week = weeks[i]\n",
    "    for j, title in enumerate(week_titles):\n",
    "        name = title.replace(\"...\",\"\").replace(\"(tng\",\"\")\n",
    "        rank = j + 1\n",
    "        row_data.append([name,week,rank])"
   ]
  },
  {
   "cell_type": "code",
   "execution_count": 13,
   "id": "85f60175-ab64-40d6-953d-948c0cf653d2",
   "metadata": {},
   "outputs": [
    {
     "data": {
      "text/plain": [
       "[['참교육', 'mon', 1],\n",
       " ['뷰티풀 군바리', 'mon', 2],\n",
       " ['퀘스트지상주의', 'mon', 3],\n",
       " ['장씨세가 호위', 'mon', 4],\n",
       " ['윈드브레이커', 'mon', 5],\n",
       " ['팔이피플', 'mon', 6],\n",
       " ['신화급 귀속 ', 'mon', 7],\n",
       " ['버림받은 왕녀', 'mon', 8],\n",
       " ['퍼니게임', 'mon', 9],\n",
       " ['앵무살수', 'mon', 10]]"
      ]
     },
     "execution_count": 13,
     "metadata": {},
     "output_type": "execute_result"
    }
   ],
   "source": [
    "row_data[:10]"
   ]
  },
  {
   "cell_type": "code",
   "execution_count": 14,
   "id": "54db2c69-3067-4aef-98bc-3c457289e86e",
   "metadata": {},
   "outputs": [],
   "source": [
    "# 3.2 row, column 이 들어간 df 제작\n",
    "df = pd.DataFrame(row_data,columns = ['title', 'week','rank'])\n",
    "\n",
    "df[\"star_mean\"] = star_means\n",
    "df[\"large_genre\"] = large_genre_list\n",
    "df[\"small_genre\"] = small_genre_list\n",
    "df[\"heart\"] = heart_list"
   ]
  },
  {
   "cell_type": "code",
   "execution_count": 15,
   "id": "72e32fd8-99a1-40b8-9299-70d517c12d23",
   "metadata": {},
   "outputs": [
    {
     "name": "stdout",
     "output_type": "stream",
     "text": [
      "<class 'pandas.core.frame.DataFrame'>\n",
      "RangeIndex: 560 entries, 0 to 559\n",
      "Data columns (total 7 columns):\n",
      " #   Column       Non-Null Count  Dtype  \n",
      "---  ------       --------------  -----  \n",
      " 0   title        560 non-null    object \n",
      " 1   week         560 non-null    object \n",
      " 2   rank         560 non-null    int64  \n",
      " 3   star_mean    560 non-null    float64\n",
      " 4   large_genre  560 non-null    object \n",
      " 5   small_genre  560 non-null    object \n",
      " 6   heart        560 non-null    int64  \n",
      "dtypes: float64(1), int64(2), object(4)\n",
      "memory usage: 30.8+ KB\n"
     ]
    }
   ],
   "source": [
    "df.info()"
   ]
  },
  {
   "cell_type": "code",
   "execution_count": 16,
   "id": "51297a8a-4a59-4467-bd55-3b063de963e2",
   "metadata": {},
   "outputs": [
    {
     "data": {
      "text/plain": [
       "(560, 7)"
      ]
     },
     "execution_count": 16,
     "metadata": {},
     "output_type": "execute_result"
    }
   ],
   "source": [
    "df.shape"
   ]
  },
  {
   "cell_type": "code",
   "execution_count": 17,
   "id": "dc633a26-0b8a-4b41-8b33-6fd07209981d",
   "metadata": {},
   "outputs": [
    {
     "data": {
      "text/plain": [
       "array(['스토리', '에피소드', '옴니버스'], dtype=object)"
      ]
     },
     "execution_count": 17,
     "metadata": {},
     "output_type": "execute_result"
    }
   ],
   "source": [
    "df[\"large_genre\"].unique()"
   ]
  },
  {
   "cell_type": "code",
   "execution_count": 18,
   "id": "fd6bb6e3-131e-473c-a6b2-85dcd2cb383f",
   "metadata": {},
   "outputs": [
    {
     "data": {
      "text/plain": [
       "array(['액션', '드라마', '무협/사극', '스포츠', '판타지', '로맨스', '스릴러', '일상', '감성', '개그'],\n",
       "      dtype=object)"
      ]
     },
     "execution_count": 18,
     "metadata": {},
     "output_type": "execute_result"
    }
   ],
   "source": [
    "df[\"small_genre\"].unique()"
   ]
  },
  {
   "cell_type": "code",
   "execution_count": 19,
   "id": "227d8de1-0ffe-4d5b-b186-2d8cc74612f7",
   "metadata": {},
   "outputs": [
    {
     "data": {
      "text/plain": [
       "array(['mon', 'tue', 'wed', 'thu', 'fri', 'sat', 'sun'], dtype=object)"
      ]
     },
     "execution_count": 19,
     "metadata": {},
     "output_type": "execute_result"
    }
   ],
   "source": [
    "df[\"week\"].unique()"
   ]
  },
  {
   "cell_type": "code",
   "execution_count": 20,
   "id": "dc7be26c-7b4c-4383-921d-90693f89d570",
   "metadata": {},
   "outputs": [
    {
     "data": {
      "text/html": [
       "<div>\n",
       "<style scoped>\n",
       "    .dataframe tbody tr th:only-of-type {\n",
       "        vertical-align: middle;\n",
       "    }\n",
       "\n",
       "    .dataframe tbody tr th {\n",
       "        vertical-align: top;\n",
       "    }\n",
       "\n",
       "    .dataframe thead th {\n",
       "        text-align: right;\n",
       "    }\n",
       "</style>\n",
       "<table border=\"1\" class=\"dataframe\">\n",
       "  <thead>\n",
       "    <tr style=\"text-align: right;\">\n",
       "      <th></th>\n",
       "      <th>title</th>\n",
       "      <th>week</th>\n",
       "      <th>rank</th>\n",
       "      <th>star_mean</th>\n",
       "      <th>large_genre</th>\n",
       "      <th>small_genre</th>\n",
       "      <th>heart</th>\n",
       "    </tr>\n",
       "  </thead>\n",
       "  <tbody>\n",
       "    <tr>\n",
       "      <th>250</th>\n",
       "      <td>호랑신랑뎐</td>\n",
       "      <td>thu</td>\n",
       "      <td>11</td>\n",
       "      <td>9.98</td>\n",
       "      <td>스토리</td>\n",
       "      <td>판타지</td>\n",
       "      <td>1033</td>\n",
       "    </tr>\n",
       "    <tr>\n",
       "      <th>256</th>\n",
       "      <td>루루라라 우리</td>\n",
       "      <td>thu</td>\n",
       "      <td>17</td>\n",
       "      <td>9.93</td>\n",
       "      <td>에피소드</td>\n",
       "      <td>일상</td>\n",
       "      <td>297</td>\n",
       "    </tr>\n",
       "    <tr>\n",
       "      <th>273</th>\n",
       "      <td>수영만화일기</td>\n",
       "      <td>thu</td>\n",
       "      <td>34</td>\n",
       "      <td>9.90</td>\n",
       "      <td>에피소드</td>\n",
       "      <td>일상</td>\n",
       "      <td>887</td>\n",
       "    </tr>\n",
       "    <tr>\n",
       "      <th>321</th>\n",
       "      <td>대학원 탈출일지</td>\n",
       "      <td>fri</td>\n",
       "      <td>2</td>\n",
       "      <td>9.97</td>\n",
       "      <td>에피소드</td>\n",
       "      <td>일상</td>\n",
       "      <td>1417</td>\n",
       "    </tr>\n",
       "    <tr>\n",
       "      <th>334</th>\n",
       "      <td>삼국지톡</td>\n",
       "      <td>fri</td>\n",
       "      <td>15</td>\n",
       "      <td>9.90</td>\n",
       "      <td>에피소드</td>\n",
       "      <td>무협/사극</td>\n",
       "      <td>99999</td>\n",
       "    </tr>\n",
       "    <tr>\n",
       "      <th>351</th>\n",
       "      <td>웅크</td>\n",
       "      <td>fri</td>\n",
       "      <td>32</td>\n",
       "      <td>9.97</td>\n",
       "      <td>에피소드</td>\n",
       "      <td>감성</td>\n",
       "      <td>312</td>\n",
       "    </tr>\n",
       "    <tr>\n",
       "      <th>372</th>\n",
       "      <td>쿠쿠쿠쿠</td>\n",
       "      <td>fri</td>\n",
       "      <td>53</td>\n",
       "      <td>9.89</td>\n",
       "      <td>스토리</td>\n",
       "      <td>개그</td>\n",
       "      <td>99</td>\n",
       "    </tr>\n",
       "    <tr>\n",
       "      <th>401</th>\n",
       "      <td>놓지마 정신줄</td>\n",
       "      <td>sat</td>\n",
       "      <td>2</td>\n",
       "      <td>9.97</td>\n",
       "      <td>에피소드</td>\n",
       "      <td>개그</td>\n",
       "      <td>545</td>\n",
       "    </tr>\n",
       "    <tr>\n",
       "      <th>404</th>\n",
       "      <td>먹는 인생</td>\n",
       "      <td>sat</td>\n",
       "      <td>5</td>\n",
       "      <td>9.96</td>\n",
       "      <td>옴니버스</td>\n",
       "      <td>일상</td>\n",
       "      <td>1953</td>\n",
       "    </tr>\n",
       "    <tr>\n",
       "      <th>406</th>\n",
       "      <td>여고생 드래곤</td>\n",
       "      <td>sat</td>\n",
       "      <td>7</td>\n",
       "      <td>9.97</td>\n",
       "      <td>스토리</td>\n",
       "      <td>판타지</td>\n",
       "      <td>1564</td>\n",
       "    </tr>\n",
       "    <tr>\n",
       "      <th>409</th>\n",
       "      <td>악몽의 형상</td>\n",
       "      <td>sat</td>\n",
       "      <td>10</td>\n",
       "      <td>9.92</td>\n",
       "      <td>스토리</td>\n",
       "      <td>스릴러</td>\n",
       "      <td>485</td>\n",
       "    </tr>\n",
       "    <tr>\n",
       "      <th>416</th>\n",
       "      <td>이십팔세기 광팬</td>\n",
       "      <td>sat</td>\n",
       "      <td>17</td>\n",
       "      <td>9.91</td>\n",
       "      <td>에피소드</td>\n",
       "      <td>개그</td>\n",
       "      <td>230</td>\n",
       "    </tr>\n",
       "    <tr>\n",
       "      <th>419</th>\n",
       "      <td>윌유메리미</td>\n",
       "      <td>sat</td>\n",
       "      <td>20</td>\n",
       "      <td>9.92</td>\n",
       "      <td>에피소드</td>\n",
       "      <td>일상</td>\n",
       "      <td>99999</td>\n",
       "    </tr>\n",
       "    <tr>\n",
       "      <th>489</th>\n",
       "      <td>안녕, 나의</td>\n",
       "      <td>sun</td>\n",
       "      <td>10</td>\n",
       "      <td>9.95</td>\n",
       "      <td>에피소드</td>\n",
       "      <td>일상</td>\n",
       "      <td>318</td>\n",
       "    </tr>\n",
       "    <tr>\n",
       "      <th>507</th>\n",
       "      <td>독립일기</td>\n",
       "      <td>sun</td>\n",
       "      <td>28</td>\n",
       "      <td>9.97</td>\n",
       "      <td>에피소드</td>\n",
       "      <td>일상</td>\n",
       "      <td>99999</td>\n",
       "    </tr>\n",
       "    <tr>\n",
       "      <th>539</th>\n",
       "      <td>DARK MO</td>\n",
       "      <td>sun</td>\n",
       "      <td>60</td>\n",
       "      <td>9.76</td>\n",
       "      <td>스토리</td>\n",
       "      <td>판타지</td>\n",
       "      <td>528</td>\n",
       "    </tr>\n",
       "  </tbody>\n",
       "</table>\n",
       "</div>"
      ],
      "text/plain": [
       "        title week  rank  star_mean large_genre small_genre  heart\n",
       "250     호랑신랑뎐  thu    11       9.98         스토리         판타지   1033\n",
       "256   루루라라 우리  thu    17       9.93        에피소드          일상    297\n",
       "273    수영만화일기  thu    34       9.90        에피소드          일상    887\n",
       "321  대학원 탈출일지  fri     2       9.97        에피소드          일상   1417\n",
       "334      삼국지톡  fri    15       9.90        에피소드       무협/사극  99999\n",
       "351        웅크  fri    32       9.97        에피소드          감성    312\n",
       "372      쿠쿠쿠쿠  fri    53       9.89         스토리          개그     99\n",
       "401   놓지마 정신줄  sat     2       9.97        에피소드          개그    545\n",
       "404     먹는 인생  sat     5       9.96        옴니버스          일상   1953\n",
       "406   여고생 드래곤  sat     7       9.97         스토리         판타지   1564\n",
       "409    악몽의 형상  sat    10       9.92         스토리         스릴러    485\n",
       "416  이십팔세기 광팬  sat    17       9.91        에피소드          개그    230\n",
       "419     윌유메리미  sat    20       9.92        에피소드          일상  99999\n",
       "489   안녕, 나의   sun    10       9.95        에피소드          일상    318\n",
       "507      독립일기  sun    28       9.97        에피소드          일상  99999\n",
       "539   DARK MO  sun    60       9.76         스토리         판타지    528"
      ]
     },
     "execution_count": 20,
     "metadata": {},
     "output_type": "execute_result"
    }
   ],
   "source": [
    "# 4.중복 제거\n",
    "## 4.1 중복 확인\n",
    "df[df.duplicated(['title'])]"
   ]
  },
  {
   "cell_type": "code",
   "execution_count": 25,
   "id": "9e1d2e3b-87c4-40a0-96b3-5cdb6a3c049d",
   "metadata": {},
   "outputs": [
    {
     "data": {
      "text/plain": [
       "16"
      ]
     },
     "execution_count": 25,
     "metadata": {},
     "output_type": "execute_result"
    }
   ],
   "source": [
    "len(df[df.duplicated(['title'])]) "
   ]
  },
  {
   "cell_type": "code",
   "execution_count": 21,
   "id": "e33d7161-9c7c-4d0a-8008-1af2178caaf2",
   "metadata": {},
   "outputs": [],
   "source": [
    "## 4.2 중복제거한 df_undp 제작\n",
    "\n",
    "df_undp = df.drop_duplicates(['title'],ignore_index = True)"
   ]
  },
  {
   "cell_type": "code",
   "execution_count": 23,
   "id": "d032dcd9-a6a2-4a25-96a8-3fa3162c38c4",
   "metadata": {},
   "outputs": [
    {
     "data": {
      "text/plain": [
       "(544, 7)"
      ]
     },
     "execution_count": 23,
     "metadata": {},
     "output_type": "execute_result"
    }
   ],
   "source": [
    "df_undp.shape"
   ]
  },
  {
   "cell_type": "code",
   "execution_count": 27,
   "id": "69245600-1bdc-4143-a86e-82dfce21f061",
   "metadata": {},
   "outputs": [],
   "source": [
    "# 5. 저장\n",
    "df_undp.to_excel('korea.xlsx')"
   ]
  },
  {
   "cell_type": "code",
   "execution_count": 26,
   "id": "cc52c161-7a24-43df-a691-463a31ac065d",
   "metadata": {},
   "outputs": [],
   "source": [
    "df_undp.to_csv('korea.csv')"
   ]
  },
  {
   "cell_type": "code",
   "execution_count": 5,
   "id": "cec4953c-79c6-4cc9-a9fd-047674245852",
   "metadata": {},
   "outputs": [],
   "source": [
    "# 6. isnovel 비율\n",
    "\n",
    "df = pd.read_csv(\"data/korea_add.csv\")"
   ]
  },
  {
   "cell_type": "code",
   "execution_count": 6,
   "id": "2f4f2988-2c5d-4511-8fb3-91a89ca8d4cf",
   "metadata": {},
   "outputs": [
    {
     "data": {
      "text/plain": [
       "0    346\n",
       "1    139\n",
       "Name: isnovel, dtype: int64"
      ]
     },
     "execution_count": 6,
     "metadata": {},
     "output_type": "execute_result"
    }
   ],
   "source": [
    "df[df[\"rank\"] >= 10][\"isnovel\"].value_counts()"
   ]
  },
  {
   "cell_type": "code",
   "execution_count": null,
   "id": "97f865b3-ae6b-400e-b180-66e244dfada4",
   "metadata": {},
   "outputs": [],
   "source": []
  },
  {
   "cell_type": "code",
   "execution_count": 28,
   "id": "1af87df0-2c4b-478b-a728-58554cd283ca",
   "metadata": {
    "collapsed": true,
    "jupyter": {
     "outputs_hidden": true
    },
    "tags": []
   },
   "outputs": [
    {
     "ename": "NoSuchWindowException",
     "evalue": "Message: no such window: target window already closed\nfrom unknown error: web view not found\n  (Session info: chrome=108.0.5359.99)\nStacktrace:\nBacktrace:\n\t(No symbol) [0x00D8F243]\n\t(No symbol) [0x00D17FD1]\n\t(No symbol) [0x00C0D04D]\n\t(No symbol) [0x00BF2D7A]\n\t(No symbol) [0x00C5BE7B]\n\t(No symbol) [0x00C6C196]\n\t(No symbol) [0x00C58386]\n\t(No symbol) [0x00C3163C]\n\t(No symbol) [0x00C3269D]\n\tGetHandleVerifier [0x01029A22+2655074]\n\tGetHandleVerifier [0x0101CA24+2601828]\n\tGetHandleVerifier [0x00E38C0A+619850]\n\tGetHandleVerifier [0x00E37830+614768]\n\t(No symbol) [0x00D205FC]\n\t(No symbol) [0x00D25968]\n\t(No symbol) [0x00D25A55]\n\t(No symbol) [0x00D3051B]\n\tBaseThreadInitThunk [0x7673FEF9+25]\n\tRtlGetAppContainerNamedObjectPath [0x77457BBE+286]\n\tRtlGetAppContainerNamedObjectPath [0x77457B8E+238]\n",
     "output_type": "error",
     "traceback": [
      "\u001b[1;31m---------------------------------------------------------------------------\u001b[0m",
      "\u001b[1;31mNoSuchWindowException\u001b[0m                     Traceback (most recent call last)",
      "\u001b[1;32m~\\AppData\\Local\\Temp/ipykernel_17644/486287328.py\u001b[0m in \u001b[0;36m<module>\u001b[1;34m\u001b[0m\n\u001b[0;32m     17\u001b[0m \u001b[1;33m\u001b[0m\u001b[0m\n\u001b[0;32m     18\u001b[0m     \u001b[0mtime\u001b[0m\u001b[1;33m.\u001b[0m\u001b[0msleep\u001b[0m\u001b[1;33m(\u001b[0m\u001b[1;36m3\u001b[0m\u001b[1;33m)\u001b[0m\u001b[1;33m\u001b[0m\u001b[1;33m\u001b[0m\u001b[0m\n\u001b[1;32m---> 19\u001b[1;33m     \u001b[0mbrowser\u001b[0m\u001b[1;33m.\u001b[0m\u001b[0mback\u001b[0m\u001b[1;33m(\u001b[0m\u001b[1;33m)\u001b[0m\u001b[1;33m\u001b[0m\u001b[1;33m\u001b[0m\u001b[0m\n\u001b[0m",
      "\u001b[1;32mC:\\Anaconda\\lib\\site-packages\\selenium\\webdriver\\remote\\webdriver.py\u001b[0m in \u001b[0;36mback\u001b[1;34m(self)\u001b[0m\n\u001b[0;32m   1043\u001b[0m                 \u001b[0mdriver\u001b[0m\u001b[1;33m.\u001b[0m\u001b[0mback\u001b[0m\u001b[1;33m(\u001b[0m\u001b[1;33m)\u001b[0m\u001b[1;33m\u001b[0m\u001b[1;33m\u001b[0m\u001b[0m\n\u001b[0;32m   1044\u001b[0m         \"\"\"\n\u001b[1;32m-> 1045\u001b[1;33m         \u001b[0mself\u001b[0m\u001b[1;33m.\u001b[0m\u001b[0mexecute\u001b[0m\u001b[1;33m(\u001b[0m\u001b[0mCommand\u001b[0m\u001b[1;33m.\u001b[0m\u001b[0mGO_BACK\u001b[0m\u001b[1;33m)\u001b[0m\u001b[1;33m\u001b[0m\u001b[1;33m\u001b[0m\u001b[0m\n\u001b[0m\u001b[0;32m   1046\u001b[0m \u001b[1;33m\u001b[0m\u001b[0m\n\u001b[0;32m   1047\u001b[0m     \u001b[1;32mdef\u001b[0m \u001b[0mforward\u001b[0m\u001b[1;33m(\u001b[0m\u001b[0mself\u001b[0m\u001b[1;33m)\u001b[0m \u001b[1;33m->\u001b[0m \u001b[1;32mNone\u001b[0m\u001b[1;33m:\u001b[0m\u001b[1;33m\u001b[0m\u001b[1;33m\u001b[0m\u001b[0m\n",
      "\u001b[1;32mC:\\Anaconda\\lib\\site-packages\\selenium\\webdriver\\remote\\webdriver.py\u001b[0m in \u001b[0;36mexecute\u001b[1;34m(self, driver_command, params)\u001b[0m\n\u001b[0;32m    428\u001b[0m         \u001b[0mresponse\u001b[0m \u001b[1;33m=\u001b[0m \u001b[0mself\u001b[0m\u001b[1;33m.\u001b[0m\u001b[0mcommand_executor\u001b[0m\u001b[1;33m.\u001b[0m\u001b[0mexecute\u001b[0m\u001b[1;33m(\u001b[0m\u001b[0mdriver_command\u001b[0m\u001b[1;33m,\u001b[0m \u001b[0mparams\u001b[0m\u001b[1;33m)\u001b[0m\u001b[1;33m\u001b[0m\u001b[1;33m\u001b[0m\u001b[0m\n\u001b[0;32m    429\u001b[0m         \u001b[1;32mif\u001b[0m \u001b[0mresponse\u001b[0m\u001b[1;33m:\u001b[0m\u001b[1;33m\u001b[0m\u001b[1;33m\u001b[0m\u001b[0m\n\u001b[1;32m--> 430\u001b[1;33m             \u001b[0mself\u001b[0m\u001b[1;33m.\u001b[0m\u001b[0merror_handler\u001b[0m\u001b[1;33m.\u001b[0m\u001b[0mcheck_response\u001b[0m\u001b[1;33m(\u001b[0m\u001b[0mresponse\u001b[0m\u001b[1;33m)\u001b[0m\u001b[1;33m\u001b[0m\u001b[1;33m\u001b[0m\u001b[0m\n\u001b[0m\u001b[0;32m    431\u001b[0m             response['value'] = self._unwrap_value(\n\u001b[0;32m    432\u001b[0m                 response.get('value', None))\n",
      "\u001b[1;32mC:\\Anaconda\\lib\\site-packages\\selenium\\webdriver\\remote\\errorhandler.py\u001b[0m in \u001b[0;36mcheck_response\u001b[1;34m(self, response)\u001b[0m\n\u001b[0;32m    245\u001b[0m                 \u001b[0malert_text\u001b[0m \u001b[1;33m=\u001b[0m \u001b[0mvalue\u001b[0m\u001b[1;33m[\u001b[0m\u001b[1;34m'alert'\u001b[0m\u001b[1;33m]\u001b[0m\u001b[1;33m.\u001b[0m\u001b[0mget\u001b[0m\u001b[1;33m(\u001b[0m\u001b[1;34m'text'\u001b[0m\u001b[1;33m)\u001b[0m\u001b[1;33m\u001b[0m\u001b[1;33m\u001b[0m\u001b[0m\n\u001b[0;32m    246\u001b[0m             \u001b[1;32mraise\u001b[0m \u001b[0mexception_class\u001b[0m\u001b[1;33m(\u001b[0m\u001b[0mmessage\u001b[0m\u001b[1;33m,\u001b[0m \u001b[0mscreen\u001b[0m\u001b[1;33m,\u001b[0m \u001b[0mstacktrace\u001b[0m\u001b[1;33m,\u001b[0m \u001b[0malert_text\u001b[0m\u001b[1;33m)\u001b[0m  \u001b[1;31m# type: ignore[call-arg]  # mypy is not smart enough here\u001b[0m\u001b[1;33m\u001b[0m\u001b[1;33m\u001b[0m\u001b[0m\n\u001b[1;32m--> 247\u001b[1;33m         \u001b[1;32mraise\u001b[0m \u001b[0mexception_class\u001b[0m\u001b[1;33m(\u001b[0m\u001b[0mmessage\u001b[0m\u001b[1;33m,\u001b[0m \u001b[0mscreen\u001b[0m\u001b[1;33m,\u001b[0m \u001b[0mstacktrace\u001b[0m\u001b[1;33m)\u001b[0m\u001b[1;33m\u001b[0m\u001b[1;33m\u001b[0m\u001b[0m\n\u001b[0m\u001b[0;32m    248\u001b[0m \u001b[1;33m\u001b[0m\u001b[0m\n\u001b[0;32m    249\u001b[0m     \u001b[1;32mdef\u001b[0m \u001b[0m_value_or_default\u001b[0m\u001b[1;33m(\u001b[0m\u001b[0mself\u001b[0m\u001b[1;33m,\u001b[0m \u001b[0mobj\u001b[0m\u001b[1;33m:\u001b[0m \u001b[0mMapping\u001b[0m\u001b[1;33m[\u001b[0m\u001b[0m_KT\u001b[0m\u001b[1;33m,\u001b[0m \u001b[0m_VT\u001b[0m\u001b[1;33m]\u001b[0m\u001b[1;33m,\u001b[0m \u001b[0mkey\u001b[0m\u001b[1;33m:\u001b[0m \u001b[0m_KT\u001b[0m\u001b[1;33m,\u001b[0m \u001b[0mdefault\u001b[0m\u001b[1;33m:\u001b[0m \u001b[0m_VT\u001b[0m\u001b[1;33m)\u001b[0m \u001b[1;33m->\u001b[0m \u001b[0m_VT\u001b[0m\u001b[1;33m:\u001b[0m\u001b[1;33m\u001b[0m\u001b[1;33m\u001b[0m\u001b[0m\n",
      "\u001b[1;31mNoSuchWindowException\u001b[0m: Message: no such window: target window already closed\nfrom unknown error: web view not found\n  (Session info: chrome=108.0.5359.99)\nStacktrace:\nBacktrace:\n\t(No symbol) [0x00D8F243]\n\t(No symbol) [0x00D17FD1]\n\t(No symbol) [0x00C0D04D]\n\t(No symbol) [0x00BF2D7A]\n\t(No symbol) [0x00C5BE7B]\n\t(No symbol) [0x00C6C196]\n\t(No symbol) [0x00C58386]\n\t(No symbol) [0x00C3163C]\n\t(No symbol) [0x00C3269D]\n\tGetHandleVerifier [0x01029A22+2655074]\n\tGetHandleVerifier [0x0101CA24+2601828]\n\tGetHandleVerifier [0x00E38C0A+619850]\n\tGetHandleVerifier [0x00E37830+614768]\n\t(No symbol) [0x00D205FC]\n\t(No symbol) [0x00D25968]\n\t(No symbol) [0x00D25A55]\n\t(No symbol) [0x00D3051B]\n\tBaseThreadInitThunk [0x7673FEF9+25]\n\tRtlGetAppContainerNamedObjectPath [0x77457BBE+286]\n\tRtlGetAppContainerNamedObjectPath [0x77457B8E+238]\n"
     ]
    }
   ],
   "source": [
    "# etc1. 제목 자동 검색 코드 (소설 원작 여부 검색 시 빠르게 하기 위해 사용)\n",
    "\n",
    "df_dict = df_undp.to_dict()\n",
    "dic_val = df_dict[\"title\"].values()\n",
    "dic_list = list(dic_val)\n",
    "\n",
    "browser = webdriver.Chrome()\n",
    "browser.get('https://series.naver.com/search/search.series?t=all&fs=novel&q=')\n",
    "\n",
    "for title in dic_list:\n",
    "    time.sleep(0.5)\n",
    "    elem = browser.find_element(by=By.ID,value='ac_input1') \n",
    "    elem.send_keys(title)\n",
    "    \n",
    "    elem = browser.find_element(by=By.CSS_SELECTOR, value=\"#ac_form1 > fieldset > button\")\n",
    "    elem.click()\n",
    "    \n",
    "    time.sleep(3)\n",
    "    browser.back()"
   ]
  },
  {
   "cell_type": "code",
   "execution_count": 31,
   "id": "4ff99e42-d754-48f0-b3e3-35a7f7bd26fd",
   "metadata": {},
   "outputs": [],
   "source": [
    "# etc2. 제목 자동 검색 후 회차 정보 수집 코드\n",
    "\n",
    "df_dict = df_undp[:2].to_dict()\n",
    "dic_val = df_dict[\"title\"].values()\n",
    "dic_list = list(dic_val)\n",
    "ep_list = []\n",
    "\n",
    "browser = webdriver.Chrome()\n",
    "browser.get('https://comic.naver.com/webtoon/weekdayList?week=mon')\n",
    "\n",
    "for title in dic_list:\n",
    "    time.sleep(0.5)\n",
    "    elem = browser.find_element(by=By.ID,value='gnb.keyword') \n",
    "    elem.send_keys(title)\n",
    "    \n",
    "    elem = browser.find_element(by=By.CSS_SELECTOR, value=\"#search_bar_button > span\")\n",
    "    elem.click()\n",
    "    \n",
    "    try:\n",
    "        ep = soup.select(\"#content > div:nth-child(2) > ul > li > ul > li:nth-child(3) > em\").getText()\n",
    "        \n",
    "    except:\n",
    "        ep = 0\n",
    "    ep_list.append(ep)\n",
    "    \n",
    "    time.sleep(3)\n",
    "    browser.back()"
   ]
  },
  {
   "cell_type": "code",
   "execution_count": null,
   "id": "c9a684d1-320b-4ce3-a567-b5fd9ff421af",
   "metadata": {},
   "outputs": [],
   "source": []
  }
 ],
 "metadata": {
  "kernelspec": {
   "display_name": "Python 3 (ipykernel)",
   "language": "python",
   "name": "python3"
  },
  "language_info": {
   "codemirror_mode": {
    "name": "ipython",
    "version": 3
   },
   "file_extension": ".py",
   "mimetype": "text/x-python",
   "name": "python",
   "nbconvert_exporter": "python",
   "pygments_lexer": "ipython3",
   "version": "3.9.7"
  }
 },
 "nbformat": 4,
 "nbformat_minor": 5
}
