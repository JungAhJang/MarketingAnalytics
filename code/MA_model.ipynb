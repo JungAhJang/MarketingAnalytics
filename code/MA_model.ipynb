{
 "cells": [
  {
   "cell_type": "markdown",
   "id": "fb53893b-a4cd-42bf-bab3-f72830d58b20",
   "metadata": {},
   "source": [
    "# 1. 임포트"
   ]
  },
  {
   "cell_type": "code",
   "execution_count": 36,
   "id": "64f6f613-b13f-478a-842c-4cb4776febaf",
   "metadata": {},
   "outputs": [],
   "source": [
    "# 1. 데이터 임포트\n",
    "import pandas as pd\n",
    "\n",
    "# 2. 변수 처리\n",
    "from sklearn.preprocessing import OneHotEncoder\n",
    "\n",
    "\n",
    "# 3. 모델 함수 제작\n",
    "from sklearn.model_selection import train_test_split\n",
    "from sklearn.model_selection import StratifiedKFold, GridSearchCV\n",
    "from sklearn.preprocessing import StandardScaler\n",
    "\n",
    "\n",
    "\n",
    "# 한글 폰트 깨짐 방지\n",
    "from matplotlib import font_manager, rc\n",
    "font_path = \"C:/Users/Jung_a/AppData/Local/Microsoft/Windows/Fonts/NanumGothic.ttf\"\n",
    "font = font_manager.FontProperties(fname=font_path).get_name()\n",
    "rc('font', family=font)"
   ]
  },
  {
   "cell_type": "code",
   "execution_count": 2,
   "id": "ff573c12-d515-4e53-9850-dc2a077739a5",
   "metadata": {},
   "outputs": [],
   "source": [
    "df = pd.read_csv(\"data/data.csv\")"
   ]
  },
  {
   "cell_type": "code",
   "execution_count": 3,
   "id": "1dd9af34-dfa6-472b-a0e5-0d4cbcb27ef9",
   "metadata": {
    "tags": []
   },
   "outputs": [
    {
     "name": "stdout",
     "output_type": "stream",
     "text": [
      "<class 'pandas.core.frame.DataFrame'>\n",
      "RangeIndex: 92 entries, 0 to 91\n",
      "Data columns (total 11 columns):\n",
      " #   Column         Non-Null Count  Dtype  \n",
      "---  ------         --------------  -----  \n",
      " 0   Unnamed: 0     92 non-null     int64  \n",
      " 1   title          92 non-null     object \n",
      " 2   week           92 non-null     object \n",
      " 3   rank           92 non-null     int64  \n",
      " 4   star_mean      92 non-null     float64\n",
      " 5   large_genre    92 non-null     object \n",
      " 6   small_genre    92 non-null     object \n",
      " 7   heart          92 non-null     int64  \n",
      " 8   isnovel        92 non-null     int64  \n",
      " 9   america_title  92 non-null     object \n",
      " 10  america_rank   92 non-null     int64  \n",
      "dtypes: float64(1), int64(5), object(5)\n",
      "memory usage: 8.0+ KB\n"
     ]
    }
   ],
   "source": [
    "df.info()"
   ]
  },
  {
   "cell_type": "code",
   "execution_count": 4,
   "id": "a0279778-9dd6-47f2-96f3-b75a8c1f7697",
   "metadata": {},
   "outputs": [],
   "source": [
    "df.drop([\"Unnamed: 0\"],inplace=True,axis=1)"
   ]
  },
  {
   "cell_type": "markdown",
   "id": "018ba1a7-6826-4887-9950-ddc96469212d",
   "metadata": {},
   "source": [
    "# 2. 변수 처리"
   ]
  },
  {
   "cell_type": "markdown",
   "id": "e7a05802-a0f8-4662-a629-de5a9091106c",
   "metadata": {},
   "source": [
    "## 2.1 카테고리 변수 숫자형으로 변형"
   ]
  },
  {
   "cell_type": "code",
   "execution_count": 5,
   "id": "810e5870-0daa-464a-b387-aac5aa424cd8",
   "metadata": {},
   "outputs": [
    {
     "data": {
      "text/plain": [
       "array(['액션', '판타지', '드라마', '로맨스', '스릴러', '감성', '스포츠', '무협/사극'],\n",
       "      dtype=object)"
      ]
     },
     "execution_count": 5,
     "metadata": {},
     "output_type": "execute_result"
    }
   ],
   "source": [
    "df[\"small_genre\"].unique()"
   ]
  },
  {
   "cell_type": "code",
   "execution_count": 6,
   "id": "0fd5309c-2e1b-410e-80b2-96621b946d3c",
   "metadata": {},
   "outputs": [
    {
     "data": {
      "text/html": [
       "<div>\n",
       "<style scoped>\n",
       "    .dataframe tbody tr th:only-of-type {\n",
       "        vertical-align: middle;\n",
       "    }\n",
       "\n",
       "    .dataframe tbody tr th {\n",
       "        vertical-align: top;\n",
       "    }\n",
       "\n",
       "    .dataframe thead th {\n",
       "        text-align: right;\n",
       "    }\n",
       "</style>\n",
       "<table border=\"1\" class=\"dataframe\">\n",
       "  <thead>\n",
       "    <tr style=\"text-align: right;\">\n",
       "      <th></th>\n",
       "      <th>title</th>\n",
       "      <th>week</th>\n",
       "      <th>rank</th>\n",
       "      <th>star_mean</th>\n",
       "      <th>large_genre</th>\n",
       "      <th>small_genre</th>\n",
       "      <th>heart</th>\n",
       "      <th>isnovel</th>\n",
       "      <th>america_title</th>\n",
       "      <th>america_rank</th>\n",
       "    </tr>\n",
       "  </thead>\n",
       "  <tbody>\n",
       "    <tr>\n",
       "      <th>4</th>\n",
       "      <td>꼬리잡기</td>\n",
       "      <td>mon</td>\n",
       "      <td>21</td>\n",
       "      <td>9.94</td>\n",
       "      <td>스토리</td>\n",
       "      <td>스릴러</td>\n",
       "      <td>1491</td>\n",
       "      <td>0</td>\n",
       "      <td>Chasing Tails</td>\n",
       "      <td>40</td>\n",
       "    </tr>\n",
       "    <tr>\n",
       "      <th>11</th>\n",
       "      <td>슈퍼스타 천대리</td>\n",
       "      <td>mon</td>\n",
       "      <td>75</td>\n",
       "      <td>9.81</td>\n",
       "      <td>스토리</td>\n",
       "      <td>감성</td>\n",
       "      <td>132</td>\n",
       "      <td>1</td>\n",
       "      <td>Superstar Associate Manager</td>\n",
       "      <td>54</td>\n",
       "    </tr>\n",
       "    <tr>\n",
       "      <th>29</th>\n",
       "      <td>여고생 드래곤</td>\n",
       "      <td>wed</td>\n",
       "      <td>8</td>\n",
       "      <td>9.97</td>\n",
       "      <td>스토리</td>\n",
       "      <td>스포츠</td>\n",
       "      <td>99999</td>\n",
       "      <td>0</td>\n",
       "      <td>Teenage Dragon</td>\n",
       "      <td>42</td>\n",
       "    </tr>\n",
       "    <tr>\n",
       "      <th>66</th>\n",
       "      <td>네버엔딩달링</td>\n",
       "      <td>fri</td>\n",
       "      <td>74</td>\n",
       "      <td>9.95</td>\n",
       "      <td>스토리</td>\n",
       "      <td>스릴러</td>\n",
       "      <td>746</td>\n",
       "      <td>0</td>\n",
       "      <td>Never-Ending Darling</td>\n",
       "      <td>33</td>\n",
       "    </tr>\n",
       "  </tbody>\n",
       "</table>\n",
       "</div>"
      ],
      "text/plain": [
       "       title week  rank  star_mean large_genre small_genre  heart  isnovel  \\\n",
       "4       꼬리잡기  mon    21       9.94         스토리         스릴러   1491        0   \n",
       "11  슈퍼스타 천대리  mon    75       9.81         스토리          감성    132        1   \n",
       "29   여고생 드래곤  wed     8       9.97         스토리         스포츠  99999        0   \n",
       "66    네버엔딩달링  fri    74       9.95         스토리         스릴러    746        0   \n",
       "\n",
       "                  america_title  america_rank  \n",
       "4                 Chasing Tails            40  \n",
       "11  Superstar Associate Manager            54  \n",
       "29               Teenage Dragon            42  \n",
       "66         Never-Ending Darling            33  "
      ]
     },
     "execution_count": 6,
     "metadata": {},
     "output_type": "execute_result"
    }
   ],
   "source": [
    "## 2.1 수가 적으므로 감성, 스포츠, 스릴러는 제거 & 무협/사극은 액션으로 통일\n",
    "\n",
    "### 감성, 스릴러, 스포츠인 행 찾기\n",
    "df[(df[\"small_genre\"] == \"감성\") | (df[\"small_genre\"] == \"스포츠\") | (df[\"small_genre\"] == \"스릴러\")]"
   ]
  },
  {
   "cell_type": "code",
   "execution_count": 7,
   "id": "80867823-221d-4734-ae15-45ad360c5526",
   "metadata": {},
   "outputs": [],
   "source": [
    "### 감성, 스릴러, 스포츠인 행 제거\n",
    "\n",
    "df.drop([4,11,29,66], axis=0,inplace=True)\n",
    "df.reset_index(drop=True,inplace=True)"
   ]
  },
  {
   "cell_type": "code",
   "execution_count": 8,
   "id": "2bf962be-b859-4e19-a776-11cb262be776",
   "metadata": {},
   "outputs": [
    {
     "data": {
      "text/html": [
       "<div>\n",
       "<style scoped>\n",
       "    .dataframe tbody tr th:only-of-type {\n",
       "        vertical-align: middle;\n",
       "    }\n",
       "\n",
       "    .dataframe tbody tr th {\n",
       "        vertical-align: top;\n",
       "    }\n",
       "\n",
       "    .dataframe thead th {\n",
       "        text-align: right;\n",
       "    }\n",
       "</style>\n",
       "<table border=\"1\" class=\"dataframe\">\n",
       "  <thead>\n",
       "    <tr style=\"text-align: right;\">\n",
       "      <th></th>\n",
       "      <th>title</th>\n",
       "      <th>week</th>\n",
       "      <th>rank</th>\n",
       "      <th>star_mean</th>\n",
       "      <th>large_genre</th>\n",
       "      <th>small_genre</th>\n",
       "      <th>heart</th>\n",
       "      <th>isnovel</th>\n",
       "      <th>america_title</th>\n",
       "      <th>america_rank</th>\n",
       "    </tr>\n",
       "  </thead>\n",
       "  <tbody>\n",
       "    <tr>\n",
       "      <th>31</th>\n",
       "      <td>칼에 취한 밤</td>\n",
       "      <td>wed</td>\n",
       "      <td>20</td>\n",
       "      <td>9.89</td>\n",
       "      <td>스토리</td>\n",
       "      <td>무협/사극</td>\n",
       "      <td>295</td>\n",
       "      <td>1</td>\n",
       "      <td>A Dance of Swords in the Night</td>\n",
       "      <td>34</td>\n",
       "    </tr>\n",
       "    <tr>\n",
       "      <th>37</th>\n",
       "      <td>나노마신</td>\n",
       "      <td>thu</td>\n",
       "      <td>3</td>\n",
       "      <td>9.92</td>\n",
       "      <td>스토리</td>\n",
       "      <td>무협/사극</td>\n",
       "      <td>57943</td>\n",
       "      <td>1</td>\n",
       "      <td>Nano Machine</td>\n",
       "      <td>51</td>\n",
       "    </tr>\n",
       "    <tr>\n",
       "      <th>53</th>\n",
       "      <td>광마회귀</td>\n",
       "      <td>fri</td>\n",
       "      <td>8</td>\n",
       "      <td>9.97</td>\n",
       "      <td>스토리</td>\n",
       "      <td>무협/사극</td>\n",
       "      <td>2498</td>\n",
       "      <td>1</td>\n",
       "      <td>Return of the Mad Demon</td>\n",
       "      <td>10</td>\n",
       "    </tr>\n",
       "    <tr>\n",
       "      <th>86</th>\n",
       "      <td>일타강사 백사부</td>\n",
       "      <td>sun</td>\n",
       "      <td>48</td>\n",
       "      <td>9.95</td>\n",
       "      <td>스토리</td>\n",
       "      <td>무협/사극</td>\n",
       "      <td>719</td>\n",
       "      <td>1</td>\n",
       "      <td>Best Teacher Baek</td>\n",
       "      <td>24</td>\n",
       "    </tr>\n",
       "  </tbody>\n",
       "</table>\n",
       "</div>"
      ],
      "text/plain": [
       "       title week  rank  star_mean large_genre small_genre  heart  isnovel  \\\n",
       "31   칼에 취한 밤  wed    20       9.89         스토리       무협/사극    295        1   \n",
       "37      나노마신  thu     3       9.92         스토리       무협/사극  57943        1   \n",
       "53      광마회귀  fri     8       9.97         스토리       무협/사극   2498        1   \n",
       "86  일타강사 백사부  sun    48       9.95         스토리       무협/사극    719        1   \n",
       "\n",
       "                     america_title  america_rank  \n",
       "31  A Dance of Swords in the Night            34  \n",
       "37                    Nano Machine            51  \n",
       "53         Return of the Mad Demon            10  \n",
       "86               Best Teacher Baek            24  "
      ]
     },
     "execution_count": 8,
     "metadata": {},
     "output_type": "execute_result"
    }
   ],
   "source": [
    "df[df[\"small_genre\"] == \"무협/사극\"]\n",
    "\n",
    "### 직접 작품을 찾아본 결과, 액션으로 분류해도 무리가 없음"
   ]
  },
  {
   "cell_type": "code",
   "execution_count": 9,
   "id": "ad696496-8fd8-44b8-8627-af25afc3a1f8",
   "metadata": {},
   "outputs": [],
   "source": [
    "### 무협/사극 -> 액션 장르로 변환\n",
    "df.loc[df[\"small_genre\"]==\"무협/사극\",\"small_genre\"] = \"액션\""
   ]
  },
  {
   "cell_type": "markdown",
   "id": "e4746054-f907-403e-97ff-20d0644e193e",
   "metadata": {
    "tags": []
   },
   "source": [
    "## 2.2 인코딩\n"
   ]
  },
  {
   "cell_type": "code",
   "execution_count": 10,
   "id": "90ba4e55-cfe6-4ee8-a976-37cdb0b0b329",
   "metadata": {
    "tags": []
   },
   "outputs": [],
   "source": [
    "onehotencoder = OneHotEncoder()\n",
    "\n",
    "X = onehotencoder.fit_transform(df.small_genre.values.reshape(-1,1)).toarray()\n",
    "\n",
    "# 드라마: 1000, 로맨스: 0100, 액션: 0010, 판타지: 0001\n",
    "df_one_hot = pd.DataFrame(X,columns =[\"드라마\",\"로맨스\",\"액션\",\"판타지\"])\n",
    "\n",
    "df = pd.concat([df,df_one_hot],axis=1)\n",
    "df = df.drop([\"small_genre\"],axis=1)"
   ]
  },
  {
   "cell_type": "code",
   "execution_count": 11,
   "id": "14149ec3-7d78-405f-87c3-3848c93b76db",
   "metadata": {},
   "outputs": [
    {
     "data": {
      "text/html": [
       "<div>\n",
       "<style scoped>\n",
       "    .dataframe tbody tr th:only-of-type {\n",
       "        vertical-align: middle;\n",
       "    }\n",
       "\n",
       "    .dataframe tbody tr th {\n",
       "        vertical-align: top;\n",
       "    }\n",
       "\n",
       "    .dataframe thead th {\n",
       "        text-align: right;\n",
       "    }\n",
       "</style>\n",
       "<table border=\"1\" class=\"dataframe\">\n",
       "  <thead>\n",
       "    <tr style=\"text-align: right;\">\n",
       "      <th></th>\n",
       "      <th>title</th>\n",
       "      <th>week</th>\n",
       "      <th>rank</th>\n",
       "      <th>star_mean</th>\n",
       "      <th>large_genre</th>\n",
       "      <th>heart</th>\n",
       "      <th>isnovel</th>\n",
       "      <th>america_title</th>\n",
       "      <th>america_rank</th>\n",
       "      <th>드라마</th>\n",
       "      <th>로맨스</th>\n",
       "      <th>액션</th>\n",
       "      <th>판타지</th>\n",
       "    </tr>\n",
       "  </thead>\n",
       "  <tbody>\n",
       "    <tr>\n",
       "      <th>0</th>\n",
       "      <td>참교육</td>\n",
       "      <td>mon</td>\n",
       "      <td>1</td>\n",
       "      <td>9.86</td>\n",
       "      <td>스토리</td>\n",
       "      <td>20645</td>\n",
       "      <td>0</td>\n",
       "      <td>Get Schooled</td>\n",
       "      <td>8</td>\n",
       "      <td>0.0</td>\n",
       "      <td>0.0</td>\n",
       "      <td>1.0</td>\n",
       "      <td>0.0</td>\n",
       "    </tr>\n",
       "    <tr>\n",
       "      <th>1</th>\n",
       "      <td>신화급 귀속</td>\n",
       "      <td>mon</td>\n",
       "      <td>7</td>\n",
       "      <td>9.88</td>\n",
       "      <td>스토리</td>\n",
       "      <td>477</td>\n",
       "      <td>1</td>\n",
       "      <td>Mythic Item Obtained</td>\n",
       "      <td>13</td>\n",
       "      <td>0.0</td>\n",
       "      <td>0.0</td>\n",
       "      <td>0.0</td>\n",
       "      <td>1.0</td>\n",
       "    </tr>\n",
       "    <tr>\n",
       "      <th>2</th>\n",
       "      <td>소녀의 세계</td>\n",
       "      <td>mon</td>\n",
       "      <td>13</td>\n",
       "      <td>9.93</td>\n",
       "      <td>스토리</td>\n",
       "      <td>99999</td>\n",
       "      <td>0</td>\n",
       "      <td>Odd Girl Out</td>\n",
       "      <td>11</td>\n",
       "      <td>1.0</td>\n",
       "      <td>0.0</td>\n",
       "      <td>0.0</td>\n",
       "      <td>0.0</td>\n",
       "    </tr>\n",
       "    <tr>\n",
       "      <th>3</th>\n",
       "      <td>북부 공작님을</td>\n",
       "      <td>mon</td>\n",
       "      <td>20</td>\n",
       "      <td>9.96</td>\n",
       "      <td>스토리</td>\n",
       "      <td>535</td>\n",
       "      <td>1</td>\n",
       "      <td>Charming the Duke of the North</td>\n",
       "      <td>22</td>\n",
       "      <td>0.0</td>\n",
       "      <td>1.0</td>\n",
       "      <td>0.0</td>\n",
       "      <td>0.0</td>\n",
       "    </tr>\n",
       "    <tr>\n",
       "      <th>4</th>\n",
       "      <td>물어보는 사이</td>\n",
       "      <td>mon</td>\n",
       "      <td>22</td>\n",
       "      <td>9.96</td>\n",
       "      <td>스토리</td>\n",
       "      <td>1766</td>\n",
       "      <td>0</td>\n",
       "      <td>Bitten Contract</td>\n",
       "      <td>14</td>\n",
       "      <td>0.0</td>\n",
       "      <td>1.0</td>\n",
       "      <td>0.0</td>\n",
       "      <td>0.0</td>\n",
       "    </tr>\n",
       "  </tbody>\n",
       "</table>\n",
       "</div>"
      ],
      "text/plain": [
       "     title week  rank  star_mean large_genre  heart  isnovel  \\\n",
       "0      참교육  mon     1       9.86         스토리  20645        0   \n",
       "1  신화급 귀속   mon     7       9.88         스토리    477        1   \n",
       "2   소녀의 세계  mon    13       9.93         스토리  99999        0   \n",
       "3  북부 공작님을  mon    20       9.96         스토리    535        1   \n",
       "4  물어보는 사이  mon    22       9.96         스토리   1766        0   \n",
       "\n",
       "                    america_title  america_rank  드라마  로맨스   액션  판타지  \n",
       "0                    Get Schooled             8  0.0  0.0  1.0  0.0  \n",
       "1            Mythic Item Obtained            13  0.0  0.0  0.0  1.0  \n",
       "2                    Odd Girl Out            11  1.0  0.0  0.0  0.0  \n",
       "3  Charming the Duke of the North            22  0.0  1.0  0.0  0.0  \n",
       "4                 Bitten Contract            14  0.0  1.0  0.0  0.0  "
      ]
     },
     "execution_count": 11,
     "metadata": {},
     "output_type": "execute_result"
    }
   ],
   "source": [
    "df.head()"
   ]
  },
  {
   "cell_type": "markdown",
   "id": "3a707c72-8496-4e37-b0e7-a53e87bdd7ef",
   "metadata": {},
   "source": [
    "# 2.3 america_rank 범주형으로 변형"
   ]
  },
  {
   "cell_type": "code",
   "execution_count": 12,
   "id": "c1eb1d43-4e6c-4fa4-b57f-409233c185e6",
   "metadata": {
    "tags": []
   },
   "outputs": [
    {
     "name": "stdout",
     "output_type": "stream",
     "text": [
      "46\n",
      "42\n"
     ]
    }
   ],
   "source": [
    "# 분류 모델 사용 위해 america_rank를 범주형으로 변형\n",
    "# america_rank가 상위 20위 이하면 1, 20위 밖이면 0\n",
    "\n",
    "print(len(df[df[\"america_rank\"] <= 20]))\n",
    "print(len(df[df[\"america_rank\"] > 20]))"
   ]
  },
  {
   "cell_type": "code",
   "execution_count": 13,
   "id": "fd0cd6aa-77f7-4775-a1d1-2bc42844f4e1",
   "metadata": {},
   "outputs": [],
   "source": [
    "df.loc[df[\"america_rank\"] <= 20,\"success\"] = 1\n",
    "df.loc[df[\"america_rank\"] > 20,\"success\"] = 0"
   ]
  },
  {
   "cell_type": "code",
   "execution_count": 14,
   "id": "6f6e235b-3e8d-4d6b-b0da-1dab25b8f1e6",
   "metadata": {},
   "outputs": [
    {
     "data": {
      "text/html": [
       "<div>\n",
       "<style scoped>\n",
       "    .dataframe tbody tr th:only-of-type {\n",
       "        vertical-align: middle;\n",
       "    }\n",
       "\n",
       "    .dataframe tbody tr th {\n",
       "        vertical-align: top;\n",
       "    }\n",
       "\n",
       "    .dataframe thead th {\n",
       "        text-align: right;\n",
       "    }\n",
       "</style>\n",
       "<table border=\"1\" class=\"dataframe\">\n",
       "  <thead>\n",
       "    <tr style=\"text-align: right;\">\n",
       "      <th></th>\n",
       "      <th>title</th>\n",
       "      <th>week</th>\n",
       "      <th>rank</th>\n",
       "      <th>star_mean</th>\n",
       "      <th>large_genre</th>\n",
       "      <th>heart</th>\n",
       "      <th>isnovel</th>\n",
       "      <th>america_title</th>\n",
       "      <th>america_rank</th>\n",
       "      <th>드라마</th>\n",
       "      <th>로맨스</th>\n",
       "      <th>액션</th>\n",
       "      <th>판타지</th>\n",
       "      <th>success</th>\n",
       "    </tr>\n",
       "  </thead>\n",
       "  <tbody>\n",
       "    <tr>\n",
       "      <th>0</th>\n",
       "      <td>참교육</td>\n",
       "      <td>mon</td>\n",
       "      <td>1</td>\n",
       "      <td>9.86</td>\n",
       "      <td>스토리</td>\n",
       "      <td>20645</td>\n",
       "      <td>0</td>\n",
       "      <td>Get Schooled</td>\n",
       "      <td>8</td>\n",
       "      <td>0.0</td>\n",
       "      <td>0.0</td>\n",
       "      <td>1.0</td>\n",
       "      <td>0.0</td>\n",
       "      <td>1.0</td>\n",
       "    </tr>\n",
       "    <tr>\n",
       "      <th>1</th>\n",
       "      <td>신화급 귀속</td>\n",
       "      <td>mon</td>\n",
       "      <td>7</td>\n",
       "      <td>9.88</td>\n",
       "      <td>스토리</td>\n",
       "      <td>477</td>\n",
       "      <td>1</td>\n",
       "      <td>Mythic Item Obtained</td>\n",
       "      <td>13</td>\n",
       "      <td>0.0</td>\n",
       "      <td>0.0</td>\n",
       "      <td>0.0</td>\n",
       "      <td>1.0</td>\n",
       "      <td>1.0</td>\n",
       "    </tr>\n",
       "    <tr>\n",
       "      <th>2</th>\n",
       "      <td>소녀의 세계</td>\n",
       "      <td>mon</td>\n",
       "      <td>13</td>\n",
       "      <td>9.93</td>\n",
       "      <td>스토리</td>\n",
       "      <td>99999</td>\n",
       "      <td>0</td>\n",
       "      <td>Odd Girl Out</td>\n",
       "      <td>11</td>\n",
       "      <td>1.0</td>\n",
       "      <td>0.0</td>\n",
       "      <td>0.0</td>\n",
       "      <td>0.0</td>\n",
       "      <td>1.0</td>\n",
       "    </tr>\n",
       "    <tr>\n",
       "      <th>3</th>\n",
       "      <td>북부 공작님을</td>\n",
       "      <td>mon</td>\n",
       "      <td>20</td>\n",
       "      <td>9.96</td>\n",
       "      <td>스토리</td>\n",
       "      <td>535</td>\n",
       "      <td>1</td>\n",
       "      <td>Charming the Duke of the North</td>\n",
       "      <td>22</td>\n",
       "      <td>0.0</td>\n",
       "      <td>1.0</td>\n",
       "      <td>0.0</td>\n",
       "      <td>0.0</td>\n",
       "      <td>0.0</td>\n",
       "    </tr>\n",
       "    <tr>\n",
       "      <th>4</th>\n",
       "      <td>물어보는 사이</td>\n",
       "      <td>mon</td>\n",
       "      <td>22</td>\n",
       "      <td>9.96</td>\n",
       "      <td>스토리</td>\n",
       "      <td>1766</td>\n",
       "      <td>0</td>\n",
       "      <td>Bitten Contract</td>\n",
       "      <td>14</td>\n",
       "      <td>0.0</td>\n",
       "      <td>1.0</td>\n",
       "      <td>0.0</td>\n",
       "      <td>0.0</td>\n",
       "      <td>1.0</td>\n",
       "    </tr>\n",
       "  </tbody>\n",
       "</table>\n",
       "</div>"
      ],
      "text/plain": [
       "     title week  rank  star_mean large_genre  heart  isnovel  \\\n",
       "0      참교육  mon     1       9.86         스토리  20645        0   \n",
       "1  신화급 귀속   mon     7       9.88         스토리    477        1   \n",
       "2   소녀의 세계  mon    13       9.93         스토리  99999        0   \n",
       "3  북부 공작님을  mon    20       9.96         스토리    535        1   \n",
       "4  물어보는 사이  mon    22       9.96         스토리   1766        0   \n",
       "\n",
       "                    america_title  america_rank  드라마  로맨스   액션  판타지  success  \n",
       "0                    Get Schooled             8  0.0  0.0  1.0  0.0      1.0  \n",
       "1            Mythic Item Obtained            13  0.0  0.0  0.0  1.0      1.0  \n",
       "2                    Odd Girl Out            11  1.0  0.0  0.0  0.0      1.0  \n",
       "3  Charming the Duke of the North            22  0.0  1.0  0.0  0.0      0.0  \n",
       "4                 Bitten Contract            14  0.0  1.0  0.0  0.0      1.0  "
      ]
     },
     "execution_count": 14,
     "metadata": {},
     "output_type": "execute_result"
    }
   ],
   "source": [
    "df.head()"
   ]
  },
  {
   "cell_type": "markdown",
   "id": "f789c547-a945-4b19-a7d8-baa30162a52b",
   "metadata": {},
   "source": [
    "## 2.4 모델에 사용할 data, target 생성"
   ]
  },
  {
   "cell_type": "code",
   "execution_count": 134,
   "id": "13eab459-ca11-4688-ae0d-5a2b89f99511",
   "metadata": {},
   "outputs": [],
   "source": [
    "### 요일, large_genre, america_title, america_rank, title 제거\n",
    "\n",
    "pre_df = df.drop([\"rank\",\"week\",\"large_genre\",\"america_title\",\"america_rank\"],axis=1)"
   ]
  },
  {
   "cell_type": "code",
   "execution_count": 135,
   "id": "ff066dae-e89f-49c7-a217-9c3deec94a33",
   "metadata": {},
   "outputs": [
    {
     "data": {
      "text/html": [
       "<div>\n",
       "<style scoped>\n",
       "    .dataframe tbody tr th:only-of-type {\n",
       "        vertical-align: middle;\n",
       "    }\n",
       "\n",
       "    .dataframe tbody tr th {\n",
       "        vertical-align: top;\n",
       "    }\n",
       "\n",
       "    .dataframe thead th {\n",
       "        text-align: right;\n",
       "    }\n",
       "</style>\n",
       "<table border=\"1\" class=\"dataframe\">\n",
       "  <thead>\n",
       "    <tr style=\"text-align: right;\">\n",
       "      <th></th>\n",
       "      <th>title</th>\n",
       "      <th>star_mean</th>\n",
       "      <th>heart</th>\n",
       "      <th>isnovel</th>\n",
       "      <th>드라마</th>\n",
       "      <th>로맨스</th>\n",
       "      <th>액션</th>\n",
       "      <th>판타지</th>\n",
       "      <th>success</th>\n",
       "    </tr>\n",
       "  </thead>\n",
       "  <tbody>\n",
       "    <tr>\n",
       "      <th>0</th>\n",
       "      <td>참교육</td>\n",
       "      <td>9.86</td>\n",
       "      <td>20645</td>\n",
       "      <td>0</td>\n",
       "      <td>0.0</td>\n",
       "      <td>0.0</td>\n",
       "      <td>1.0</td>\n",
       "      <td>0.0</td>\n",
       "      <td>1.0</td>\n",
       "    </tr>\n",
       "    <tr>\n",
       "      <th>1</th>\n",
       "      <td>신화급 귀속</td>\n",
       "      <td>9.88</td>\n",
       "      <td>477</td>\n",
       "      <td>1</td>\n",
       "      <td>0.0</td>\n",
       "      <td>0.0</td>\n",
       "      <td>0.0</td>\n",
       "      <td>1.0</td>\n",
       "      <td>1.0</td>\n",
       "    </tr>\n",
       "    <tr>\n",
       "      <th>2</th>\n",
       "      <td>소녀의 세계</td>\n",
       "      <td>9.93</td>\n",
       "      <td>99999</td>\n",
       "      <td>0</td>\n",
       "      <td>1.0</td>\n",
       "      <td>0.0</td>\n",
       "      <td>0.0</td>\n",
       "      <td>0.0</td>\n",
       "      <td>1.0</td>\n",
       "    </tr>\n",
       "    <tr>\n",
       "      <th>3</th>\n",
       "      <td>북부 공작님을</td>\n",
       "      <td>9.96</td>\n",
       "      <td>535</td>\n",
       "      <td>1</td>\n",
       "      <td>0.0</td>\n",
       "      <td>1.0</td>\n",
       "      <td>0.0</td>\n",
       "      <td>0.0</td>\n",
       "      <td>0.0</td>\n",
       "    </tr>\n",
       "    <tr>\n",
       "      <th>4</th>\n",
       "      <td>물어보는 사이</td>\n",
       "      <td>9.96</td>\n",
       "      <td>1766</td>\n",
       "      <td>0</td>\n",
       "      <td>0.0</td>\n",
       "      <td>1.0</td>\n",
       "      <td>0.0</td>\n",
       "      <td>0.0</td>\n",
       "      <td>1.0</td>\n",
       "    </tr>\n",
       "  </tbody>\n",
       "</table>\n",
       "</div>"
      ],
      "text/plain": [
       "     title  star_mean  heart  isnovel  드라마  로맨스   액션  판타지  success\n",
       "0      참교육       9.86  20645        0  0.0  0.0  1.0  0.0      1.0\n",
       "1  신화급 귀속        9.88    477        1  0.0  0.0  0.0  1.0      1.0\n",
       "2   소녀의 세계       9.93  99999        0  1.0  0.0  0.0  0.0      1.0\n",
       "3  북부 공작님을       9.96    535        1  0.0  1.0  0.0  0.0      0.0\n",
       "4  물어보는 사이       9.96   1766        0  0.0  1.0  0.0  0.0      1.0"
      ]
     },
     "execution_count": 135,
     "metadata": {},
     "output_type": "execute_result"
    }
   ],
   "source": [
    "pre_df.head()"
   ]
  },
  {
   "cell_type": "code",
   "execution_count": 136,
   "id": "48a32ecb-c9aa-44fd-80cf-f1c493e78ddd",
   "metadata": {},
   "outputs": [],
   "source": [
    "### 모델에 사용할 데이터 생성\n",
    "df_data = pre_df.iloc[:,1:8]\n",
    "df_target = pre_df.iloc[:,8]"
   ]
  },
  {
   "cell_type": "code",
   "execution_count": 154,
   "id": "64fa3e33-c324-487f-9508-3aa72bea8fac",
   "metadata": {},
   "outputs": [],
   "source": [
    "### 모델에 사용할 데이터 저장\n",
    "\n",
    "df_data.to_excel('df_data.xlsx')\n",
    "df_data.to_csv('df_data.csv')"
   ]
  },
  {
   "cell_type": "code",
   "execution_count": 155,
   "id": "21eb2656-e661-4a27-add6-0633fa660c64",
   "metadata": {},
   "outputs": [],
   "source": [
    "df_target.to_excel('df_target.xlsx')\n",
    "df_target.to_csv('df_target.csv')"
   ]
  },
  {
   "cell_type": "markdown",
   "id": "f6c68eb8-1902-4504-878b-f2193554e163",
   "metadata": {},
   "source": [
    "# 3. 모델 함수 제작"
   ]
  },
  {
   "cell_type": "code",
   "execution_count": 138,
   "id": "0147be2b-5ef9-4033-aa55-96e5c5a2955a",
   "metadata": {},
   "outputs": [],
   "source": [
    "## 3.1 데이터 스플릿\n",
    "### stratify 설정시 오류 발생 \n",
    "from sklearn.model_selection import train_test_split\n",
    "\n",
    "X_train, X_test, y_train, y_test = train_test_split(df_data, df_target, test_size=0.4, random_state=23) "
   ]
  },
  {
   "cell_type": "code",
   "execution_count": 139,
   "id": "229ba969-4868-4fc3-ba24-664e4be063b0",
   "metadata": {},
   "outputs": [],
   "source": [
    "## 3.2 표준화\n",
    "from sklearn.preprocessing import StandardScaler\n",
    "\n",
    "scaler = StandardScaler() \n",
    "X_train_scaled = scaler.fit_transform(X_train)\n",
    "X_test_scaled = scaler.fit_transform(X_test)"
   ]
  },
  {
   "cell_type": "code",
   "execution_count": 140,
   "id": "95a66e05-d609-4c10-89f2-ab63f84dbbd1",
   "metadata": {},
   "outputs": [],
   "source": [
    "## 3.3 모델 제작 함수 제작\n",
    "from sklearn.model_selection import StratifiedKFold, GridSearchCV\n",
    "from sklearn.metrics import classification_report\n",
    "from sklearn.metrics import confusion_matrix\n",
    "from sklearn.metrics import roc_auc_score\n",
    "from sklearn.metrics import accuracy_score\n",
    "\n",
    "kfold =  StratifiedKFold(n_splits=3) \n",
    "\n",
    "def make_model(model_name,model, hyperparam_grid):\n",
    "    print(f\"================{model_name}모델================\")\n",
    "\n",
    "    grid_model = GridSearchCV(model, hyperparam_grid, scoring=\"accuracy\", cv=kfold)\n",
    "    grid_model.fit(X_train_scaled, y_train)\n",
    "    y_test_hat = grid_model.predict(X_test_scaled)  \n",
    "\n",
    "    print(f\"모델의 best_score:\",grid_model.best_score_)\n",
    "    print(f\"모델의 best_params:\",grid_model.best_params_)\n",
    "    print(f\"모델의 accuracy score: \",accuracy_score(y_test, y_test_hat))\n",
    "    print(f\"모델의 roc_auc_score: \",roc_auc_score(y_test,  y_test_hat))\n",
    "    \n",
    "    print(f\"모델의 일반화 평가\")\n",
    "    print(classification_report(y_test,y_test_hat))\n",
    "\n",
    "    print(f\"모델의 confusion_matrix \")\n",
    "    print(confusion_matrix(y_test,  y_test_hat))\n",
    "\n",
    "    return grid_model.best_estimator_"
   ]
  },
  {
   "cell_type": "code",
   "execution_count": 141,
   "id": "79ea9baa-b705-4a3d-98e9-500211c6e58c",
   "metadata": {},
   "outputs": [],
   "source": [
    "## 3.3 모델의 feature importance를 보여주는 함수\n",
    "import seaborn as sns\n",
    "\n",
    "def show_importance(model_name,model):\n",
    "    print(f\"===={model_name}의 feature importance====\")\n",
    "    feature_importance = sorted([(name,value) for name,value in zip(df_data.columns, model.feature_importances_)],key=lambda x : x[1],reverse=True) # importance 값으로 내림차순 정렬\n",
    "    for i in feature_importance:\n",
    "        print('{0} : {1:.3f}'.format(i[0], i[1]))\n",
    "    sns.barplot(x=model.feature_importances_, y=df_data.columns)"
   ]
  },
  {
   "cell_type": "code",
   "execution_count": 142,
   "id": "dc7b34ca-3ba9-4b3b-8512-087802c90370",
   "metadata": {},
   "outputs": [],
   "source": [
    "## 3.4 성공 여부 확인 함수\n",
    "def isSuccess(cartoon_value,model):\n",
    "    isSuccessd = 'not success' if model.predict([cartoon_value])[0] == 0 else 'success!'\n",
    "    print(f'I am {isSuccessd} --> 확률: {max(model.predict_proba([cartoon_value])[0])*100:.3f}%')"
   ]
  },
  {
   "cell_type": "markdown",
   "id": "3ea128d6-29ac-4a0b-ab4c-1b737405e2a9",
   "metadata": {},
   "source": [
    "# 4. 미국 성공 예측 모델 만들기"
   ]
  },
  {
   "cell_type": "markdown",
   "id": "18b64155-db60-43cb-8372-26ac2898a547",
   "metadata": {},
   "source": [
    "## 4.1  decision tree"
   ]
  },
  {
   "cell_type": "code",
   "execution_count": 143,
   "id": "234d9b70-c2dd-4b3b-98e0-01a03e76b028",
   "metadata": {},
   "outputs": [
    {
     "name": "stdout",
     "output_type": "stream",
     "text": [
      "================DT모델================\n",
      "모델의 best_score: 0.6732026143790849\n",
      "모델의 best_params: {'criterion': 'entropy', 'max_depth': 5, 'min_samples_leaf': 1, 'min_samples_split': 4}\n",
      "모델의 accuracy score:  0.4722222222222222\n",
      "모델의 roc_auc_score:  0.4907120743034056\n",
      "모델의 일반화 평가\n",
      "              precision    recall  f1-score   support\n",
      "\n",
      "         0.0       0.50      0.16      0.24        19\n",
      "         1.0       0.47      0.82      0.60        17\n",
      "\n",
      "    accuracy                           0.47        36\n",
      "   macro avg       0.48      0.49      0.42        36\n",
      "weighted avg       0.48      0.47      0.41        36\n",
      "\n",
      "모델의 confusion_matrix \n",
      "[[ 3 16]\n",
      " [ 3 14]]\n"
     ]
    }
   ],
   "source": [
    "from sklearn.tree import DecisionTreeClassifier\n",
    "hyperparam_grid =  {'max_depth':[1,2,3,4,5,6, 8,], \n",
    "                    'min_samples_split':[2,3,4,5,8,],\n",
    "                    'min_samples_leaf': [1, 8, 6, 12],\n",
    "                    'criterion':['entropy','gini']\n",
    "                   }\n",
    "best_dt_model = make_model(\"DT\",DecisionTreeClassifier(random_state=23),hyperparam_grid)"
   ]
  },
  {
   "cell_type": "code",
   "execution_count": 144,
   "id": "fe02025f-d5c4-4349-9e1f-1027280c6c06",
   "metadata": {},
   "outputs": [
    {
     "name": "stdout",
     "output_type": "stream",
     "text": [
      "====DT의 feature importance====\n",
      "heart : 0.587\n",
      "star_mean : 0.233\n",
      "isnovel : 0.144\n",
      "로맨스 : 0.036\n",
      "드라마 : 0.000\n",
      "액션 : 0.000\n",
      "판타지 : 0.000\n"
     ]
    },
    {
     "data": {
      "image/png": "[encoded data removed]",
      "text/plain": [
       "<Figure size 432x288 with 1 Axes>"
      ]
     },
     "metadata": {
      "needs_background": "light"
     },
     "output_type": "display_data"
    }
   ],
   "source": [
    "### 4.1.2 decision tree 모델의 feature importance\n",
    "show_importance(\"DT\",best_dt_model)"
   ]
  },
  {
   "cell_type": "code",
   "execution_count": 145,
   "id": "7c150367-619b-4ffb-909b-e5d6911e63ee",
   "metadata": {},
   "outputs": [
    {
     "name": "stdout",
     "output_type": "stream",
     "text": [
      "I am success! --> 확률: 66.667%\n",
      "I am success! --> 확률: 66.667%\n"
     ]
    }
   ],
   "source": [
    "### 4.1.3 decision tree 모델에서의 성공 여부\n",
    "# 리스트 순서: star_mean heart isnovel 드라마 로맨스 액션 판타지 sex\n",
    "cartoon1 = [9.96, 530, 0, 1, 0, 0, 0] #자매전쟁  미국 18위\n",
    "cartoon2 = [2, 1, 1, 1, 0, 0, 1]\n",
    "\n",
    "isSuccess(cartoon1,best_dt_model)\n",
    "isSuccess(cartoon2,best_dt_model)"
   ]
  },
  {
   "cell_type": "markdown",
   "id": "cb9d6f47-8a4e-4d80-b54e-e32f5d563731",
   "metadata": {},
   "source": [
    "## 4.2 random forest"
   ]
  },
  {
   "cell_type": "code",
   "execution_count": 146,
   "id": "41f001f0-76b9-49ee-8afa-e201f38ac311",
   "metadata": {},
   "outputs": [
    {
     "name": "stdout",
     "output_type": "stream",
     "text": [
      "================RF모델================\n",
      "모델의 best_score: 0.5980392156862745\n",
      "모델의 best_params: {'criterion': 'entropy', 'max_depth': 3, 'max_features': 'sqrt', 'min_samples_leaf': 4, 'min_samples_split': 2}\n",
      "모델의 accuracy score:  0.4722222222222222\n",
      "모델의 roc_auc_score:  0.5\n",
      "모델의 일반화 평가\n",
      "              precision    recall  f1-score   support\n",
      "\n",
      "         0.0       0.00      0.00      0.00        19\n",
      "         1.0       0.47      1.00      0.64        17\n",
      "\n",
      "    accuracy                           0.47        36\n",
      "   macro avg       0.24      0.50      0.32        36\n",
      "weighted avg       0.22      0.47      0.30        36\n",
      "\n",
      "모델의 confusion_matrix \n",
      "[[ 0 19]\n",
      " [ 0 17]]\n"
     ]
    },
    {
     "name": "stderr",
     "output_type": "stream",
     "text": [
      "C:\\Anaconda\\lib\\site-packages\\sklearn\\metrics\\_classification.py:1248: UndefinedMetricWarning: Precision and F-score are ill-defined and being set to 0.0 in labels with no predicted samples. Use `zero_division` parameter to control this behavior.\n",
      "  _warn_prf(average, modifier, msg_start, len(result))\n",
      "C:\\Anaconda\\lib\\site-packages\\sklearn\\metrics\\_classification.py:1248: UndefinedMetricWarning: Precision and F-score are ill-defined and being set to 0.0 in labels with no predicted samples. Use `zero_division` parameter to control this behavior.\n",
      "  _warn_prf(average, modifier, msg_start, len(result))\n",
      "C:\\Anaconda\\lib\\site-packages\\sklearn\\metrics\\_classification.py:1248: UndefinedMetricWarning: Precision and F-score are ill-defined and being set to 0.0 in labels with no predicted samples. Use `zero_division` parameter to control this behavior.\n",
      "  _warn_prf(average, modifier, msg_start, len(result))\n"
     ]
    }
   ],
   "source": [
    "### random forest\n",
    "from sklearn.ensemble import RandomForestClassifier\n",
    "\n",
    "RF = RandomForestClassifier(n_estimators=50, random_state=20, n_jobs=1)\n",
    "hyperparam_grid =  {\n",
    "    'max_depth' : [1, 2, 3, 4, 5], \n",
    "    'min_samples_split' : [2, 3, 4, 5],\n",
    "    \"min_samples_leaf\": [1, 2, 3, 4, 5,],\n",
    "    'criterion' : ['entropy','gini'],\n",
    "    'max_features' : [\"sqrt\", \"log2\", None],\n",
    "    \n",
    "}\n",
    "best_rf_model = make_model(\"RF\",RF,hyperparam_grid)"
   ]
  },
  {
   "cell_type": "code",
   "execution_count": 147,
   "id": "e14065b9-e0f4-4b9a-b5cc-b3a779096963",
   "metadata": {},
   "outputs": [
    {
     "name": "stdout",
     "output_type": "stream",
     "text": [
      "====RF의 feature importance====\n",
      "star_mean : 0.433\n",
      "heart : 0.341\n",
      "isnovel : 0.112\n",
      "판타지 : 0.053\n",
      "드라마 : 0.041\n",
      "로맨스 : 0.018\n",
      "액션 : 0.003\n"
     ]
    },
    {
     "data": {
      "image/png": "[encoded data removed]",
      "text/plain": [
       "<Figure size 432x288 with 1 Axes>"
      ]
     },
     "metadata": {
      "needs_background": "light"
     },
     "output_type": "display_data"
    }
   ],
   "source": [
    "### 4.2.2 random forest 모델의 feature importance\n",
    "show_importance(\"RF\",best_rf_model)"
   ]
  },
  {
   "cell_type": "code",
   "execution_count": 153,
   "id": "ef2de5be-294c-41ca-a773-134d197e9c04",
   "metadata": {},
   "outputs": [
    {
     "name": "stdout",
     "output_type": "stream",
     "text": [
      "I am success! --> 확률: 66.131%\n",
      "I am success! --> 확률: 69.044%\n"
     ]
    }
   ],
   "source": [
    "### 4.2.3 random forest 모델에서의 성공 여부\n",
    "# 리스트 순서: star_mean heart isnovel 드라마 로맨스 액션 판타지\n",
    "cartoon1 = [9.96, 530, 0, 1, 0, 0, 0] #자매전쟁  미국 18위\n",
    "cartoon2 = [2, 1, 1, 0, 0, 0, 1]\n",
    "\n",
    "isSuccess(cartoon1,best_rf_model)\n",
    "isSuccess(cartoon2,best_rf_model)"
   ]
  },
  {
   "cell_type": "markdown",
   "id": "8d18b5ae-dee7-48d4-ae48-99c69d8fea71",
   "metadata": {},
   "source": [
    "## 4.3  logistic regression"
   ]
  },
  {
   "cell_type": "code",
   "execution_count": 149,
   "id": "9782bae7-7d01-46b5-bd15-ff3b7b188303",
   "metadata": {
    "tags": []
   },
   "outputs": [
    {
     "name": "stdout",
     "output_type": "stream",
     "text": [
      "================LR모델================\n",
      "모델의 best_score: 0.5577342047930284\n",
      "모델의 best_params: {'C': 0.01, 'solver': 'newton-cg'}\n",
      "모델의 accuracy score:  0.4722222222222222\n",
      "모델의 roc_auc_score:  0.5\n",
      "모델의 일반화 평가\n",
      "              precision    recall  f1-score   support\n",
      "\n",
      "         0.0       0.00      0.00      0.00        19\n",
      "         1.0       0.47      1.00      0.64        17\n",
      "\n",
      "    accuracy                           0.47        36\n",
      "   macro avg       0.24      0.50      0.32        36\n",
      "weighted avg       0.22      0.47      0.30        36\n",
      "\n",
      "모델의 confusion_matrix \n",
      "[[ 0 19]\n",
      " [ 0 17]]\n"
     ]
    },
    {
     "name": "stderr",
     "output_type": "stream",
     "text": [
      "C:\\Anaconda\\lib\\site-packages\\sklearn\\metrics\\_classification.py:1248: UndefinedMetricWarning: Precision and F-score are ill-defined and being set to 0.0 in labels with no predicted samples. Use `zero_division` parameter to control this behavior.\n",
      "  _warn_prf(average, modifier, msg_start, len(result))\n",
      "C:\\Anaconda\\lib\\site-packages\\sklearn\\metrics\\_classification.py:1248: UndefinedMetricWarning: Precision and F-score are ill-defined and being set to 0.0 in labels with no predicted samples. Use `zero_division` parameter to control this behavior.\n",
      "  _warn_prf(average, modifier, msg_start, len(result))\n",
      "C:\\Anaconda\\lib\\site-packages\\sklearn\\metrics\\_classification.py:1248: UndefinedMetricWarning: Precision and F-score are ill-defined and being set to 0.0 in labels with no predicted samples. Use `zero_division` parameter to control this behavior.\n",
      "  _warn_prf(average, modifier, msg_start, len(result))\n"
     ]
    }
   ],
   "source": [
    "### 4.3.1 logistic regression 모델 만들고 평가하기\n",
    "\n",
    "from sklearn.linear_model import LogisticRegression\n",
    "LR = LogisticRegression(random_state=20, n_jobs=1)\n",
    "\n",
    "hyperparam_grid =  {\n",
    "    \"C\" : [0.01, 0.1, 1],\n",
    "    \"solver\" : [\"newton-cg\", \"lbfgs\", \"liblinear\", \"sag\", \"saga\"]\n",
    "}\n",
    "\n",
    "best_lr_model = make_model(\"LR\", LR, hyperparam_grid)"
   ]
  },
  {
   "cell_type": "code",
   "execution_count": 150,
   "id": "375b8c93-0aa6-46d3-b92e-4345a2a3b592",
   "metadata": {},
   "outputs": [
    {
     "name": "stdout",
     "output_type": "stream",
     "text": [
      "====LR의 coef====\n",
      "star_mean : 0.04046373835192551 \n",
      "isnovel : 0.03553533854070491 \n",
      "드라마 : -0.012203167310501997 \n",
      "로맨스 : 0.007468507294747428 \n",
      "액션 : -0.0069440139341429875 \n",
      "heart : 0.00666170583697445 \n",
      "판타지 : 0.005414901985017968 \n"
     ]
    },
    {
     "data": {
      "text/plain": [
       "<AxesSubplot:>"
      ]
     },
     "execution_count": 150,
     "metadata": {},
     "output_type": "execute_result"
    },
    {
     "name": "stderr",
     "output_type": "stream",
     "text": [
      "C:\\Anaconda\\lib\\site-packages\\matplotlib\\backends\\backend_agg.py:240: RuntimeWarning: Glyph 8722 missing from current font.\n",
      "  font.set_text(s, 0.0, flags=flags)\n",
      "C:\\Anaconda\\lib\\site-packages\\matplotlib\\backends\\backend_agg.py:203: RuntimeWarning: Glyph 8722 missing from current font.\n",
      "  font.set_text(s, 0, flags=flags)\n"
     ]
    },
    {
     "data": {
      "image/png": "[encoded data removed]",
      "text/plain": [
       "<Figure size 432x288 with 1 Axes>"
      ]
     },
     "metadata": {
      "needs_background": "light"
     },
     "output_type": "display_data"
    }
   ],
   "source": [
    "### 4.3.2 logistic regression의 coef\n",
    "\n",
    "print(\"====LR의 coef====\")\n",
    "feature_importance = sorted([(name,value) for name,value in zip(df_data.columns, best_lr_model.coef_[0])],key=lambda x : abs(x[1]),reverse=True) # coef 절대값으로 내림차순 정렬\n",
    "for i in feature_importance:\n",
    "    print(f\"{i[0]} : {i[1]} \")\n",
    "sns.barplot(x=best_lr_model.coef_[0], y=df_data.columns)"
   ]
  },
  {
   "cell_type": "code",
   "execution_count": 152,
   "id": "7bfd8d8b-cdc4-44bb-b962-70c4de292259",
   "metadata": {},
   "outputs": [
    {
     "name": "stdout",
     "output_type": "stream",
     "text": [
      "I am success! --> 확률: 98.453%\n",
      "I am success! --> 확률: 58.915%\n"
     ]
    }
   ],
   "source": [
    "### 4.3.3 logistic regression의 모델에서의 성공 여부\n",
    "# 리스트 순서: star_mean heart isnovel 드라마 로맨스 액션 판타지\n",
    "cartoon1 = [9.96, 530, 0, 1, 0, 0, 0] #자매전쟁  미국 18위\n",
    "cartoon2 = [2, 1, 1, 0, 0, 0, 1]\n",
    "\n",
    "isSuccess(cartoon1,best_lr_model)\n",
    "isSuccess(cartoon2,best_lr_model)"
   ]
  },
  {
   "cell_type": "code",
   "execution_count": null,
   "id": "e76648ba-9a3b-4d31-b684-8d4083d6c395",
   "metadata": {},
   "outputs": [],
   "source": []
  },
  {
   "cell_type": "code",
   "execution_count": null,
   "id": "cb1d07e5-0a28-4cfa-8c67-706382d822fc",
   "metadata": {},
   "outputs": [],
   "source": []
  },
  {
   "cell_type": "code",
   "execution_count": null,
   "id": "3cdeb198-0b6a-4ed2-83e1-b8169839b497",
   "metadata": {},
   "outputs": [],
   "source": []
  },
  {
   "cell_type": "code",
   "execution_count": null,
   "id": "22871858-038f-4d11-bd20-6da1196e3904",
   "metadata": {},
   "outputs": [],
   "source": []
  },
  {
   "cell_type": "code",
   "execution_count": null,
   "id": "d194465d-6c4f-4a4b-a536-5fff838dec0a",
   "metadata": {},
   "outputs": [],
   "source": []
  },
  {
   "cell_type": "code",
   "execution_count": null,
   "id": "d7d8b0bd-2a42-4618-88c7-3d820dd84c01",
   "metadata": {},
   "outputs": [],
   "source": []
  }
 ],
 "metadata": {
  "kernelspec": {
   "display_name": "Python 3 (ipykernel)",
   "language": "python",
   "name": "python3"
  },
  "language_info": {
   "codemirror_mode": {
    "name": "ipython",
    "version": 3
   },
   "file_extension": ".py",
   "mimetype": "text/x-python",
   "name": "python",
   "nbconvert_exporter": "python",
   "pygments_lexer": "ipython3",
   "version": "3.9.7"
  }
 },
 "nbformat": 4,
 "nbformat_minor": 5
}
