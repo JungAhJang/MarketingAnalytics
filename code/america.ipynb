{
 "cells": [
  {
   "cell_type": "code",
   "execution_count": 1,
   "id": "7178e7f7-ed63-4221-ab21-58ce119c2b3b",
   "metadata": {},
   "outputs": [],
   "source": [
    "# 미국 전체 작품 데이터 수집\n",
    "import pandas as pd\n",
    "\n",
    "import requests\n",
    "from bs4 import BeautifulSoup\n",
    "\n",
    "from selenium import webdriver\n",
    "from selenium.webdriver.common.keys import Keys\n",
    "from selenium.webdriver.common.by import By\n",
    "\n",
    "from time import sleep\n",
    "import time"
   ]
  },
  {
   "cell_type": "code",
   "execution_count": 34,
   "id": "cd93666a-e1eb-4309-888e-8d31f323afc9",
   "metadata": {},
   "outputs": [],
   "source": [
    "# 1. 전체 작품의 작품 이름, 장르, 하트 수 구하기\n",
    "URL = 'https://www.webtoons.com/en/dailySchedule'\n",
    "weeks = [\"MONDAY\",\"TUESDAY\",\"WEDNESDAY\",\"THURSDAY\",\"FRIDAY\",\"SATURDAY\",\"SUNDAY\"]\n",
    "\n",
    "html = requests.get(URL).text\n",
    "soup = BeautifulSoup(html,'html.parser')\n",
    "\n",
    "month_titles = []; month_genres = []; month_hearts = [];\n",
    "\n",
    "for week in weeks:\n",
    "    \n",
    "    ten_titles = []; ten_genres = []; ten_hearts = [];\n",
    "    \n",
    "    titles = soup.select(f\"#dailyList > div.daily_section._list_{week} > ul > li > a > div > p.subj\")\n",
    "    genres = soup.select(f\"#dailyList > div.daily_section._list_{week} > ul > li > a > p.genre\")\n",
    "    hearts = soup.select(f\"#dailyList > div.daily_section._list_{week} > ul > li > a > p.grade_area > em\")\n",
    "    \n",
    "    ten_titles = [title.text for title in titles]\n",
    "    ten_genres = [genre.text for genre in genres]\n",
    "    # 1.7M(str) -> 1700000(float) 으로 전처리 & ',' 제거 \n",
    "    ten_hearts = [float(heart.text.replace(\",\",\"\").replace(\"M\",\"\")) * 1000000 \n",
    "                  if \"M\" in heart.text else float(heart.text.replace(\",\",\"\")) \n",
    "                  for heart in hearts]\n",
    "    \n",
    "    month_titles.append(ten_titles)\n",
    "    month_genres.append(ten_genres)\n",
    "    month_hearts.append(ten_hearts)"
   ]
  },
  {
   "cell_type": "code",
   "execution_count": 37,
   "id": "cac79e06-19d0-4c86-8e57-2e6274eef879",
   "metadata": {},
   "outputs": [
    {
     "name": "stdout",
     "output_type": "stream",
     "text": [
      "MONDAY: 68\n",
      "TUESDAY: 79\n",
      "WEDNESDAY: 73\n",
      "THURSDAY: 69\n",
      "FRIDAY: 75\n",
      "SATURDAY: 71\n",
      "SUNDAY: 66\n"
     ]
    }
   ],
   "source": [
    "week_genre_list = []\n",
    "for week,week_genres in zip(weeks,month_genres):\n",
    "    print(f\"{week}: {len(week_genres)}\")\n",
    "    week_genre_list.append(len(week_genres))"
   ]
  },
  {
   "cell_type": "code",
   "execution_count": 38,
   "id": "9b758a97-3972-4d58-8e29-9a29fdd1558a",
   "metadata": {},
   "outputs": [
    {
     "name": "stdout",
     "output_type": "stream",
     "text": [
      "MONDAY: 68\n",
      "TUESDAY: 79\n",
      "WEDNESDAY: 73\n",
      "THURSDAY: 69\n",
      "FRIDAY: 75\n",
      "SATURDAY: 71\n",
      "SUNDAY: 66\n"
     ]
    }
   ],
   "source": [
    "week_heart_list = []\n",
    "for week,week_hearts in zip(weeks,month_hearts):\n",
    "    print(f\"{week}: {len(week_hearts)}\")\n",
    "    week_genre_list.append(len(week_hearts))"
   ]
  },
  {
   "cell_type": "code",
   "execution_count": null,
   "id": "8e5a597f-3097-4f1e-8ed6-7afe919c346e",
   "metadata": {},
   "outputs": [],
   "source": []
  },
  {
   "cell_type": "code",
   "execution_count": null,
   "id": "4570731e-5a40-4ad9-aac6-5f7c9e05bfd5",
   "metadata": {},
   "outputs": [],
   "source": []
  },
  {
   "cell_type": "code",
   "execution_count": 32,
   "id": "144a4a66-2a3d-4e1a-be3b-dd2d823b0dd2",
   "metadata": {},
   "outputs": [
    {
     "name": "stdout",
     "output_type": "stream",
     "text": [
      "mon: 68\n",
      "tue: 79\n",
      "wed: 73\n",
      "thu: 69\n",
      "fri: 75\n",
      "sat: 71\n",
      "sun: 66\n"
     ]
    }
   ],
   "source": [
    "week_cnt_list = []\n",
    "for week,week_titles in zip(weeks,month_titles):\n",
    "    print(f\"{week}: {len(week_titles)}\")\n",
    "    week_cnt_list.append(len(week_titles))"
   ]
  },
  {
   "cell_type": "code",
   "execution_count": 11,
   "id": "ea83c294-d5e4-4e6f-b764-aec4d7f43159",
   "metadata": {},
   "outputs": [
    {
     "data": {
      "text/plain": [
       "[68, 79, 73, 69, 75, 71, 66]"
      ]
     },
     "execution_count": 11,
     "metadata": {},
     "output_type": "execute_result"
    }
   ],
   "source": [
    "week_cnt_list"
   ]
  },
  {
   "cell_type": "code",
   "execution_count": 25,
   "id": "af11c88c-5628-4db2-9505-e317007e8afc",
   "metadata": {},
   "outputs": [
    {
     "data": {
      "text/plain": [
       "501"
      ]
     },
     "execution_count": 25,
     "metadata": {},
     "output_type": "execute_result"
    }
   ],
   "source": [
    "sum(week_cnt_list)"
   ]
  },
  {
   "cell_type": "code",
   "execution_count": 13,
   "id": "05ca5deb-39b4-4eda-b240-43b6362d802d",
   "metadata": {},
   "outputs": [
    {
     "name": "stderr",
     "output_type": "stream",
     "text": [
      "C:\\Users\\Jung_a\\AppData\\Local\\Temp/ipykernel_1124/732188065.py:3: DeprecationWarning: executable_path has been deprecated, please pass in a Service object\n",
      "  driver = webdriver.Chrome('chromedriver.exe')\n"
     ]
    }
   ],
   "source": [
    "# 2. 전체 작품의 별점 평균, 총 회차수, 조회수\n",
    "\n",
    "driver = webdriver.Chrome('chromedriver.exe')\n",
    "star_mean_list = []; ep_list = []; view_list = []; week_cnt = 0\n",
    "\n",
    "for i,week in enumerate(weeks):\n",
    "    driver.get(URL)\n",
    "    time.sleep(1)\n",
    "    \n",
    "    week_cnt = week_cnt_list[i] #요일마다 작품 수가 다름\n",
    "    \n",
    "    for i in range(1,week_cnt+1):\n",
    "        # 요일 별로 작품 클릭\n",
    "        page = driver.find_element(by=By.CSS_SELECTOR, \n",
    "                                    value=f\"#dailyList > div.daily_section._list_{week} > ul > li:nth-child({i}) > a\")\n",
    "    \n",
    "        page.click()\n",
    "        time.sleep(0.5)\n",
    "                                   \n",
    "        # 이동한 페이지 주소 읽고, 파싱하기\n",
    "        html = driver.page_source\n",
    "        soup = BeautifulSoup(html,'html.parser')\n",
    "        \n",
    "        # 별점 평균 수집\n",
    "        star_mean = soup.select(\"#_starScoreAverage\")[0].getText()               \n",
    "        star_mean_list.append(star_mean)\n",
    "                                   \n",
    "        # 조회수 수집\n",
    "        view = soup.select(\"#_asideDetail > ul > li:nth-child(1) > em\")[0].getText()   \n",
    "        view_list.append(view)\n",
    "                                   \n",
    "        # 회차수 수집\n",
    "        ep = soup.select(\"#_listUl > li:nth-child(1) > a > span.tx\")[0].getText()   \n",
    "        ep_list.append(ep)\n",
    "        \n",
    "        driver.back()                        "
   ]
  },
  {
   "cell_type": "code",
   "execution_count": 23,
   "id": "ea1a7dca-7615-4f7d-bcbd-bbe3b8a0824a",
   "metadata": {},
   "outputs": [
    {
     "data": {
      "text/plain": [
       "501"
      ]
     },
     "execution_count": 23,
     "metadata": {},
     "output_type": "execute_result"
    }
   ],
   "source": [
    "len(star_mean_list)"
   ]
  },
  {
   "cell_type": "code",
   "execution_count": 16,
   "id": "f997c87e-e969-44a2-a951-7f1136318cd9",
   "metadata": {},
   "outputs": [
    {
     "data": {
      "text/plain": [
       "['#17', '#6', '#54', '#31', '#69']"
      ]
     },
     "execution_count": 16,
     "metadata": {},
     "output_type": "execute_result"
    }
   ],
   "source": [
    "ep_list[:5]"
   ]
  },
  {
   "cell_type": "code",
   "execution_count": 27,
   "id": "3af2238c-3d37-4b10-b43f-69d9a801275f",
   "metadata": {},
   "outputs": [
    {
     "data": {
      "text/plain": [
       "501"
      ]
     },
     "execution_count": 27,
     "metadata": {},
     "output_type": "execute_result"
    }
   ],
   "source": [
    "len(ep_list)"
   ]
  },
  {
   "cell_type": "code",
   "execution_count": 17,
   "id": "3a1b7b96-9258-41de-a8e1-b215e4e439e4",
   "metadata": {},
   "outputs": [
    {
     "data": {
      "text/plain": [
       "['20.7M', '2.1M', '81.5M', '12.9M', '30.4M']"
      ]
     },
     "execution_count": 17,
     "metadata": {},
     "output_type": "execute_result"
    }
   ],
   "source": [
    "view_list[:5]"
   ]
  },
  {
   "cell_type": "code",
   "execution_count": 28,
   "id": "cb50a2dc-8c6d-4172-830d-25c87c70a6fd",
   "metadata": {},
   "outputs": [
    {
     "data": {
      "text/plain": [
       "501"
      ]
     },
     "execution_count": 28,
     "metadata": {},
     "output_type": "execute_result"
    }
   ],
   "source": [
    "len(view_list)"
   ]
  },
  {
   "cell_type": "code",
   "execution_count": 18,
   "id": "d6ceab57-257f-4a95-9a6e-ddc081ffcd0d",
   "metadata": {},
   "outputs": [],
   "source": [
    "# 3. row & column 제작\n",
    "## 3.1  [제목, 요일, 순위] row data 제작\n",
    "\n",
    "row_data = []\n",
    "weeks = [\"mon\", \"tue\", \"wed\", \"thu\", \"fri\", \"sat\", \"sun\"]\n",
    "week = \"\"\n",
    "rank = 0\n",
    "titles = \"\"\n",
    "\n",
    "for i, week_titles in enumerate(month_titles):\n",
    "    week = weeks[i]\n",
    "    for j, title in enumerate(week_titles):\n",
    "        rank = j + 1\n",
    "        row_data.append([title,week,rank])"
   ]
  },
  {
   "cell_type": "code",
   "execution_count": 26,
   "id": "3f04e834-c2a3-4397-a349-1106738dc0f8",
   "metadata": {},
   "outputs": [
    {
     "data": {
      "text/plain": [
       "501"
      ]
     },
     "execution_count": 26,
     "metadata": {},
     "output_type": "execute_result"
    }
   ],
   "source": [
    "len(row_data)"
   ]
  },
  {
   "cell_type": "code",
   "execution_count": 39,
   "id": "3636db5b-e377-4f8c-beaa-01f840dfa4e1",
   "metadata": {},
   "outputs": [],
   "source": [
    "## 3.2 장르, 하트수 칼럼 제작\n",
    "\n",
    "genres = [genre for week_genres in month_genres for genre in week_genres ]\n",
    "hearts = [heart for week_hearts in month_hearts for heart in week_hearts]"
   ]
  },
  {
   "cell_type": "code",
   "execution_count": null,
   "id": "6f87fd0f-74be-4f88-a2a0-a1e41d3fba3b",
   "metadata": {},
   "outputs": [
    {
     "data": {
      "text/plain": [
       "501"
      ]
     },
     "execution_count": 29,
     "metadata": {},
     "output_type": "execute_result"
    }
   ],
   "source": [
    "len(genres)"
   ]
  },
  {
   "cell_type": "code",
   "execution_count": 20,
   "id": "07a529af-5269-445b-b8d3-d62df94ac9d8",
   "metadata": {},
   "outputs": [],
   "source": [
    "## 3.3 별점 평균, 회차수, 조회수 전처리한 칼럼 제작\n",
    "\n",
    "star_means = [float(star_mean) for star_mean in star_mean_list]\n",
    "total_ep = [int(ep.replace(\"#\",\"\")) for ep in ep_list]\n",
    "views = []\n",
    "for view in view_list:\n",
    "    view = view.replace(\",\",\"\")\n",
    "    if \"M\" in view:\n",
    "        view = float(view.replace(\"M\",\"\")) * 1000000\n",
    "    elif \"B\" in view:\n",
    "        view = float(view.replace(\"B\",\"\")) * 1000000000 \n",
    "    else:\n",
    "        view = float(view)\n",
    "    views.append(round(view,1))"
   ]
  },
  {
   "cell_type": "code",
   "execution_count": 40,
   "id": "c12217f1-7375-4e9f-abae-c274a680d1b1",
   "metadata": {},
   "outputs": [],
   "source": [
    "# 4. 데이터프레임 제작\n",
    "\n",
    "df = pd.DataFrame(row_data,columns = ['title', 'week','rank'])\n",
    "df[\"genre\"] = genres\n",
    "df[\"heart\"] = hearts\n",
    "df[\"star_mean\"] = star_means\n",
    "df[\"ep\"] = total_ep\n",
    "df[\"view\"] = views"
   ]
  },
  {
   "cell_type": "code",
   "execution_count": 41,
   "id": "b13abd4f-f64d-43ad-98bc-98114a342fd9",
   "metadata": {},
   "outputs": [
    {
     "data": {
      "text/html": [
       "<div>\n",
       "<style scoped>\n",
       "    .dataframe tbody tr th:only-of-type {\n",
       "        vertical-align: middle;\n",
       "    }\n",
       "\n",
       "    .dataframe tbody tr th {\n",
       "        vertical-align: top;\n",
       "    }\n",
       "\n",
       "    .dataframe thead th {\n",
       "        text-align: right;\n",
       "    }\n",
       "</style>\n",
       "<table border=\"1\" class=\"dataframe\">\n",
       "  <thead>\n",
       "    <tr style=\"text-align: right;\">\n",
       "      <th></th>\n",
       "      <th>title</th>\n",
       "      <th>week</th>\n",
       "      <th>rank</th>\n",
       "      <th>genre</th>\n",
       "      <th>heart</th>\n",
       "      <th>star_mean</th>\n",
       "      <th>ep</th>\n",
       "      <th>view</th>\n",
       "    </tr>\n",
       "  </thead>\n",
       "  <tbody>\n",
       "    <tr>\n",
       "      <th>0</th>\n",
       "      <td>Marry My Husband</td>\n",
       "      <td>mon</td>\n",
       "      <td>1</td>\n",
       "      <td>Romance</td>\n",
       "      <td>1700000.0</td>\n",
       "      <td>9.63</td>\n",
       "      <td>17</td>\n",
       "      <td>20700000.0</td>\n",
       "    </tr>\n",
       "    <tr>\n",
       "      <th>1</th>\n",
       "      <td>I’m the Queen in This Life</td>\n",
       "      <td>mon</td>\n",
       "      <td>2</td>\n",
       "      <td>Fantasy</td>\n",
       "      <td>211822.0</td>\n",
       "      <td>9.53</td>\n",
       "      <td>6</td>\n",
       "      <td>2100000.0</td>\n",
       "    </tr>\n",
       "    <tr>\n",
       "      <th>2</th>\n",
       "      <td>Everything is Fine</td>\n",
       "      <td>mon</td>\n",
       "      <td>3</td>\n",
       "      <td>Horror</td>\n",
       "      <td>5200000.0</td>\n",
       "      <td>9.74</td>\n",
       "      <td>54</td>\n",
       "      <td>81500000.0</td>\n",
       "    </tr>\n",
       "    <tr>\n",
       "      <th>3</th>\n",
       "      <td>Blood Reverie</td>\n",
       "      <td>mon</td>\n",
       "      <td>4</td>\n",
       "      <td>Romance</td>\n",
       "      <td>1300000.0</td>\n",
       "      <td>9.25</td>\n",
       "      <td>31</td>\n",
       "      <td>12900000.0</td>\n",
       "    </tr>\n",
       "    <tr>\n",
       "      <th>4</th>\n",
       "      <td>To The Stars and Back</td>\n",
       "      <td>mon</td>\n",
       "      <td>5</td>\n",
       "      <td>Slice of life</td>\n",
       "      <td>3400000.0</td>\n",
       "      <td>9.66</td>\n",
       "      <td>69</td>\n",
       "      <td>30400000.0</td>\n",
       "    </tr>\n",
       "    <tr>\n",
       "      <th>...</th>\n",
       "      <td>...</td>\n",
       "      <td>...</td>\n",
       "      <td>...</td>\n",
       "      <td>...</td>\n",
       "      <td>...</td>\n",
       "      <td>...</td>\n",
       "      <td>...</td>\n",
       "      <td>...</td>\n",
       "    </tr>\n",
       "    <tr>\n",
       "      <th>496</th>\n",
       "      <td>The Remarried Empress</td>\n",
       "      <td>sun</td>\n",
       "      <td>62</td>\n",
       "      <td>Fantasy</td>\n",
       "      <td>25300000.0</td>\n",
       "      <td>9.86</td>\n",
       "      <td>125</td>\n",
       "      <td>285100000.0</td>\n",
       "    </tr>\n",
       "    <tr>\n",
       "      <th>497</th>\n",
       "      <td>R-X: RAYER HUNTER</td>\n",
       "      <td>sun</td>\n",
       "      <td>63</td>\n",
       "      <td>Sci-fi</td>\n",
       "      <td>97264.0</td>\n",
       "      <td>8.15</td>\n",
       "      <td>40</td>\n",
       "      <td>1000000.0</td>\n",
       "    </tr>\n",
       "    <tr>\n",
       "      <th>498</th>\n",
       "      <td>Blades of Furry</td>\n",
       "      <td>sun</td>\n",
       "      <td>64</td>\n",
       "      <td>Romance</td>\n",
       "      <td>3200000.0</td>\n",
       "      <td>9.58</td>\n",
       "      <td>62</td>\n",
       "      <td>31200000.0</td>\n",
       "    </tr>\n",
       "    <tr>\n",
       "      <th>499</th>\n",
       "      <td>Everywhere &amp; Nowhere</td>\n",
       "      <td>sun</td>\n",
       "      <td>65</td>\n",
       "      <td>Comedy</td>\n",
       "      <td>11300000.0</td>\n",
       "      <td>9.57</td>\n",
       "      <td>234</td>\n",
       "      <td>98400000.0</td>\n",
       "    </tr>\n",
       "    <tr>\n",
       "      <th>500</th>\n",
       "      <td>The Shadow Prophet</td>\n",
       "      <td>sun</td>\n",
       "      <td>66</td>\n",
       "      <td>Drama</td>\n",
       "      <td>306734.0</td>\n",
       "      <td>9.55</td>\n",
       "      <td>41</td>\n",
       "      <td>1800000.0</td>\n",
       "    </tr>\n",
       "  </tbody>\n",
       "</table>\n",
       "<p>501 rows × 8 columns</p>\n",
       "</div>"
      ],
      "text/plain": [
       "                          title week  rank          genre       heart  \\\n",
       "0              Marry My Husband  mon     1        Romance   1700000.0   \n",
       "1    I’m the Queen in This Life  mon     2        Fantasy    211822.0   \n",
       "2            Everything is Fine  mon     3         Horror   5200000.0   \n",
       "3                 Blood Reverie  mon     4        Romance   1300000.0   \n",
       "4         To The Stars and Back  mon     5  Slice of life   3400000.0   \n",
       "..                          ...  ...   ...            ...         ...   \n",
       "496       The Remarried Empress  sun    62        Fantasy  25300000.0   \n",
       "497           R-X: RAYER HUNTER  sun    63         Sci-fi     97264.0   \n",
       "498             Blades of Furry  sun    64        Romance   3200000.0   \n",
       "499        Everywhere & Nowhere  sun    65         Comedy  11300000.0   \n",
       "500          The Shadow Prophet  sun    66          Drama    306734.0   \n",
       "\n",
       "     star_mean   ep         view  \n",
       "0         9.63   17   20700000.0  \n",
       "1         9.53    6    2100000.0  \n",
       "2         9.74   54   81500000.0  \n",
       "3         9.25   31   12900000.0  \n",
       "4         9.66   69   30400000.0  \n",
       "..         ...  ...          ...  \n",
       "496       9.86  125  285100000.0  \n",
       "497       8.15   40    1000000.0  \n",
       "498       9.58   62   31200000.0  \n",
       "499       9.57  234   98400000.0  \n",
       "500       9.55   41    1800000.0  \n",
       "\n",
       "[501 rows x 8 columns]"
      ]
     },
     "execution_count": 41,
     "metadata": {},
     "output_type": "execute_result"
    }
   ],
   "source": [
    "df"
   ]
  },
  {
   "cell_type": "code",
   "execution_count": 44,
   "id": "16cb5bcf-e32e-4591-9fba-c87b35981d87",
   "metadata": {},
   "outputs": [
    {
     "data": {
      "text/html": [
       "<div>\n",
       "<style scoped>\n",
       "    .dataframe tbody tr th:only-of-type {\n",
       "        vertical-align: middle;\n",
       "    }\n",
       "\n",
       "    .dataframe tbody tr th {\n",
       "        vertical-align: top;\n",
       "    }\n",
       "\n",
       "    .dataframe thead th {\n",
       "        text-align: right;\n",
       "    }\n",
       "</style>\n",
       "<table border=\"1\" class=\"dataframe\">\n",
       "  <thead>\n",
       "    <tr style=\"text-align: right;\">\n",
       "      <th></th>\n",
       "      <th>title</th>\n",
       "      <th>week</th>\n",
       "      <th>rank</th>\n",
       "      <th>genre</th>\n",
       "      <th>heart</th>\n",
       "      <th>star_mean</th>\n",
       "      <th>ep</th>\n",
       "      <th>view</th>\n",
       "    </tr>\n",
       "  </thead>\n",
       "  <tbody>\n",
       "    <tr>\n",
       "      <th>153</th>\n",
       "      <td>My Giant Nerd Boyfriend</td>\n",
       "      <td>wed</td>\n",
       "      <td>7</td>\n",
       "      <td>Slice of life</td>\n",
       "      <td>62400000.0</td>\n",
       "      <td>9.73</td>\n",
       "      <td>800</td>\n",
       "      <td>744700000.0</td>\n",
       "    </tr>\n",
       "    <tr>\n",
       "      <th>162</th>\n",
       "      <td>\bScroll if You Dare</td>\n",
       "      <td>wed</td>\n",
       "      <td>16</td>\n",
       "      <td>Horror</td>\n",
       "      <td>548965.0</td>\n",
       "      <td>9.54</td>\n",
       "      <td>27</td>\n",
       "      <td>6300000.0</td>\n",
       "    </tr>\n",
       "    <tr>\n",
       "      <th>164</th>\n",
       "      <td>Safely Endangered</td>\n",
       "      <td>wed</td>\n",
       "      <td>18</td>\n",
       "      <td>Comedy</td>\n",
       "      <td>23300000.0</td>\n",
       "      <td>9.56</td>\n",
       "      <td>837</td>\n",
       "      <td>397800000.0</td>\n",
       "    </tr>\n",
       "    <tr>\n",
       "      <th>225</th>\n",
       "      <td>To The Stars and Back</td>\n",
       "      <td>thu</td>\n",
       "      <td>6</td>\n",
       "      <td>Slice of life</td>\n",
       "      <td>3400000.0</td>\n",
       "      <td>9.66</td>\n",
       "      <td>69</td>\n",
       "      <td>30400000.0</td>\n",
       "    </tr>\n",
       "    <tr>\n",
       "      <th>244</th>\n",
       "      <td>Ingrid the Plague Doctor</td>\n",
       "      <td>thu</td>\n",
       "      <td>25</td>\n",
       "      <td>Slice of life</td>\n",
       "      <td>423226.0</td>\n",
       "      <td>9.44</td>\n",
       "      <td>46</td>\n",
       "      <td>3600000.0</td>\n",
       "    </tr>\n",
       "    <tr>\n",
       "      <th>245</th>\n",
       "      <td>Finding Fiends</td>\n",
       "      <td>thu</td>\n",
       "      <td>26</td>\n",
       "      <td>Comedy</td>\n",
       "      <td>1200000.0</td>\n",
       "      <td>9.76</td>\n",
       "      <td>98</td>\n",
       "      <td>7400000.0</td>\n",
       "    </tr>\n",
       "    <tr>\n",
       "      <th>271</th>\n",
       "      <td>Gecko Chan</td>\n",
       "      <td>thu</td>\n",
       "      <td>52</td>\n",
       "      <td>Comedy</td>\n",
       "      <td>503304.0</td>\n",
       "      <td>9.15</td>\n",
       "      <td>124</td>\n",
       "      <td>3400000.0</td>\n",
       "    </tr>\n",
       "    <tr>\n",
       "      <th>274</th>\n",
       "      <td>Discovering Love: A Harlequin Romance Collection</td>\n",
       "      <td>thu</td>\n",
       "      <td>55</td>\n",
       "      <td>Romance</td>\n",
       "      <td>147093.0</td>\n",
       "      <td>8.90</td>\n",
       "      <td>94</td>\n",
       "      <td>1300000.0</td>\n",
       "    </tr>\n",
       "    <tr>\n",
       "      <th>292</th>\n",
       "      <td>Vampire Husband</td>\n",
       "      <td>fri</td>\n",
       "      <td>4</td>\n",
       "      <td>Slice of life</td>\n",
       "      <td>364561.0</td>\n",
       "      <td>9.56</td>\n",
       "      <td>11</td>\n",
       "      <td>2600000.0</td>\n",
       "    </tr>\n",
       "    <tr>\n",
       "      <th>296</th>\n",
       "      <td>1HP Club</td>\n",
       "      <td>fri</td>\n",
       "      <td>8</td>\n",
       "      <td>Fantasy</td>\n",
       "      <td>4000000.0</td>\n",
       "      <td>9.64</td>\n",
       "      <td>95</td>\n",
       "      <td>34300000.0</td>\n",
       "    </tr>\n",
       "    <tr>\n",
       "      <th>298</th>\n",
       "      <td>My Giant Nerd Boyfriend</td>\n",
       "      <td>fri</td>\n",
       "      <td>10</td>\n",
       "      <td>Slice of life</td>\n",
       "      <td>62400000.0</td>\n",
       "      <td>9.73</td>\n",
       "      <td>800</td>\n",
       "      <td>744700000.0</td>\n",
       "    </tr>\n",
       "    <tr>\n",
       "      <th>306</th>\n",
       "      <td>Rooftops &amp; Roommates</td>\n",
       "      <td>fri</td>\n",
       "      <td>18</td>\n",
       "      <td>Comedy</td>\n",
       "      <td>4600000.0</td>\n",
       "      <td>9.51</td>\n",
       "      <td>123</td>\n",
       "      <td>34400000.0</td>\n",
       "    </tr>\n",
       "    <tr>\n",
       "      <th>309</th>\n",
       "      <td>\bScroll if You Dare</td>\n",
       "      <td>fri</td>\n",
       "      <td>21</td>\n",
       "      <td>Horror</td>\n",
       "      <td>548965.0</td>\n",
       "      <td>9.54</td>\n",
       "      <td>27</td>\n",
       "      <td>6300000.0</td>\n",
       "    </tr>\n",
       "    <tr>\n",
       "      <th>352</th>\n",
       "      <td>Boyfriends.</td>\n",
       "      <td>fri</td>\n",
       "      <td>64</td>\n",
       "      <td>Slice of life</td>\n",
       "      <td>21000000.0</td>\n",
       "      <td>8.39</td>\n",
       "      <td>148</td>\n",
       "      <td>365500000.0</td>\n",
       "    </tr>\n",
       "    <tr>\n",
       "      <th>364</th>\n",
       "      <td>Daybreak</td>\n",
       "      <td>sat</td>\n",
       "      <td>1</td>\n",
       "      <td>Slice of life</td>\n",
       "      <td>1600000.0</td>\n",
       "      <td>9.67</td>\n",
       "      <td>31</td>\n",
       "      <td>13800000.0</td>\n",
       "    </tr>\n",
       "    <tr>\n",
       "      <th>378</th>\n",
       "      <td>Adventures of God</td>\n",
       "      <td>sat</td>\n",
       "      <td>15</td>\n",
       "      <td>Comedy</td>\n",
       "      <td>28800000.0</td>\n",
       "      <td>9.42</td>\n",
       "      <td>610</td>\n",
       "      <td>450100000.0</td>\n",
       "    </tr>\n",
       "    <tr>\n",
       "      <th>379</th>\n",
       "      <td>Bluechair</td>\n",
       "      <td>sat</td>\n",
       "      <td>16</td>\n",
       "      <td>Slice of life</td>\n",
       "      <td>43300000.0</td>\n",
       "      <td>9.72</td>\n",
       "      <td>1070</td>\n",
       "      <td>535400000.0</td>\n",
       "    </tr>\n",
       "    <tr>\n",
       "      <th>387</th>\n",
       "      <td>Ingrid the Plague Doctor</td>\n",
       "      <td>sat</td>\n",
       "      <td>24</td>\n",
       "      <td>Slice of life</td>\n",
       "      <td>423226.0</td>\n",
       "      <td>9.44</td>\n",
       "      <td>46</td>\n",
       "      <td>3600000.0</td>\n",
       "    </tr>\n",
       "    <tr>\n",
       "      <th>409</th>\n",
       "      <td>Just Pancakes</td>\n",
       "      <td>sat</td>\n",
       "      <td>46</td>\n",
       "      <td>Comedy</td>\n",
       "      <td>2700000.0</td>\n",
       "      <td>9.65</td>\n",
       "      <td>210</td>\n",
       "      <td>21300000.0</td>\n",
       "    </tr>\n",
       "    <tr>\n",
       "      <th>423</th>\n",
       "      <td>Winter Moon</td>\n",
       "      <td>sat</td>\n",
       "      <td>60</td>\n",
       "      <td>Fantasy</td>\n",
       "      <td>35300000.0</td>\n",
       "      <td>9.39</td>\n",
       "      <td>535</td>\n",
       "      <td>462700000.0</td>\n",
       "    </tr>\n",
       "    <tr>\n",
       "      <th>429</th>\n",
       "      <td>Clinic of Horrors</td>\n",
       "      <td>sat</td>\n",
       "      <td>66</td>\n",
       "      <td>Supernatural</td>\n",
       "      <td>6400000.0</td>\n",
       "      <td>9.63</td>\n",
       "      <td>91</td>\n",
       "      <td>67700000.0</td>\n",
       "    </tr>\n",
       "    <tr>\n",
       "      <th>437</th>\n",
       "      <td>High Class Homos</td>\n",
       "      <td>sun</td>\n",
       "      <td>3</td>\n",
       "      <td>Comedy</td>\n",
       "      <td>7600000.0</td>\n",
       "      <td>9.39</td>\n",
       "      <td>96</td>\n",
       "      <td>80400000.0</td>\n",
       "    </tr>\n",
       "    <tr>\n",
       "      <th>452</th>\n",
       "      <td>Hyperfocus</td>\n",
       "      <td>sun</td>\n",
       "      <td>18</td>\n",
       "      <td>Slice of life</td>\n",
       "      <td>2200000.0</td>\n",
       "      <td>9.47</td>\n",
       "      <td>100</td>\n",
       "      <td>18400000.0</td>\n",
       "    </tr>\n",
       "    <tr>\n",
       "      <th>462</th>\n",
       "      <td>Live with Yourself!</td>\n",
       "      <td>sun</td>\n",
       "      <td>28</td>\n",
       "      <td>Comedy</td>\n",
       "      <td>12200000.0</td>\n",
       "      <td>9.75</td>\n",
       "      <td>420</td>\n",
       "      <td>120900000.0</td>\n",
       "    </tr>\n",
       "    <tr>\n",
       "      <th>465</th>\n",
       "      <td>Smity and Majesty</td>\n",
       "      <td>sun</td>\n",
       "      <td>31</td>\n",
       "      <td>Comedy</td>\n",
       "      <td>1100000.0</td>\n",
       "      <td>9.51</td>\n",
       "      <td>109</td>\n",
       "      <td>6900000.0</td>\n",
       "    </tr>\n",
       "    <tr>\n",
       "      <th>472</th>\n",
       "      <td>Vibe Check!</td>\n",
       "      <td>sun</td>\n",
       "      <td>38</td>\n",
       "      <td>Comedy</td>\n",
       "      <td>491340.0</td>\n",
       "      <td>9.57</td>\n",
       "      <td>86</td>\n",
       "      <td>3000000.0</td>\n",
       "    </tr>\n",
       "    <tr>\n",
       "      <th>499</th>\n",
       "      <td>Everywhere &amp; Nowhere</td>\n",
       "      <td>sun</td>\n",
       "      <td>65</td>\n",
       "      <td>Comedy</td>\n",
       "      <td>11300000.0</td>\n",
       "      <td>9.57</td>\n",
       "      <td>234</td>\n",
       "      <td>98400000.0</td>\n",
       "    </tr>\n",
       "  </tbody>\n",
       "</table>\n",
       "</div>"
      ],
      "text/plain": [
       "                                                title week  rank  \\\n",
       "153                           My Giant Nerd Boyfriend  wed     7   \n",
       "162                               \bScroll if You Dare  wed    16   \n",
       "164                                 Safely Endangered  wed    18   \n",
       "225                             To The Stars and Back  thu     6   \n",
       "244                          Ingrid the Plague Doctor  thu    25   \n",
       "245                                    Finding Fiends  thu    26   \n",
       "271                                        Gecko Chan  thu    52   \n",
       "274  Discovering Love: A Harlequin Romance Collection  thu    55   \n",
       "292                                   Vampire Husband  fri     4   \n",
       "296                                          1HP Club  fri     8   \n",
       "298                           My Giant Nerd Boyfriend  fri    10   \n",
       "306                              Rooftops & Roommates  fri    18   \n",
       "309                               \bScroll if You Dare  fri    21   \n",
       "352                                       Boyfriends.  fri    64   \n",
       "364                                          Daybreak  sat     1   \n",
       "378                                 Adventures of God  sat    15   \n",
       "379                                         Bluechair  sat    16   \n",
       "387                          Ingrid the Plague Doctor  sat    24   \n",
       "409                                     Just Pancakes  sat    46   \n",
       "423                                       Winter Moon  sat    60   \n",
       "429                                 Clinic of Horrors  sat    66   \n",
       "437                                  High Class Homos  sun     3   \n",
       "452                                        Hyperfocus  sun    18   \n",
       "462                               Live with Yourself!  sun    28   \n",
       "465                                 Smity and Majesty  sun    31   \n",
       "472                                       Vibe Check!  sun    38   \n",
       "499                              Everywhere & Nowhere  sun    65   \n",
       "\n",
       "             genre       heart  star_mean    ep         view  \n",
       "153  Slice of life  62400000.0       9.73   800  744700000.0  \n",
       "162         Horror    548965.0       9.54    27    6300000.0  \n",
       "164         Comedy  23300000.0       9.56   837  397800000.0  \n",
       "225  Slice of life   3400000.0       9.66    69   30400000.0  \n",
       "244  Slice of life    423226.0       9.44    46    3600000.0  \n",
       "245         Comedy   1200000.0       9.76    98    7400000.0  \n",
       "271         Comedy    503304.0       9.15   124    3400000.0  \n",
       "274        Romance    147093.0       8.90    94    1300000.0  \n",
       "292  Slice of life    364561.0       9.56    11    2600000.0  \n",
       "296        Fantasy   4000000.0       9.64    95   34300000.0  \n",
       "298  Slice of life  62400000.0       9.73   800  744700000.0  \n",
       "306         Comedy   4600000.0       9.51   123   34400000.0  \n",
       "309         Horror    548965.0       9.54    27    6300000.0  \n",
       "352  Slice of life  21000000.0       8.39   148  365500000.0  \n",
       "364  Slice of life   1600000.0       9.67    31   13800000.0  \n",
       "378         Comedy  28800000.0       9.42   610  450100000.0  \n",
       "379  Slice of life  43300000.0       9.72  1070  535400000.0  \n",
       "387  Slice of life    423226.0       9.44    46    3600000.0  \n",
       "409         Comedy   2700000.0       9.65   210   21300000.0  \n",
       "423        Fantasy  35300000.0       9.39   535  462700000.0  \n",
       "429   Supernatural   6400000.0       9.63    91   67700000.0  \n",
       "437         Comedy   7600000.0       9.39    96   80400000.0  \n",
       "452  Slice of life   2200000.0       9.47   100   18400000.0  \n",
       "462         Comedy  12200000.0       9.75   420  120900000.0  \n",
       "465         Comedy   1100000.0       9.51   109    6900000.0  \n",
       "472         Comedy    491340.0       9.57    86    3000000.0  \n",
       "499         Comedy  11300000.0       9.57   234   98400000.0  "
      ]
     },
     "execution_count": 44,
     "metadata": {},
     "output_type": "execute_result"
    }
   ],
   "source": [
    "# 5. 중복 제거\n",
    "## 5.1 중복 칼럼 확인\n",
    "df[df.duplicated(['title'])]"
   ]
  },
  {
   "cell_type": "code",
   "execution_count": 45,
   "id": "82d17dc6-5031-4f2a-adda-e2778ea32fe8",
   "metadata": {},
   "outputs": [
    {
     "name": "stdout",
     "output_type": "stream",
     "text": [
      "27\n"
     ]
    }
   ],
   "source": [
    "# 중복 데이터프레임 개수\n",
    "print(len(df[df.duplicated(['title'])]))"
   ]
  },
  {
   "cell_type": "code",
   "execution_count": 47,
   "id": "aa996230-7f2f-4636-99d8-6d8eef68d649",
   "metadata": {},
   "outputs": [],
   "source": [
    "## 5.2 중복 칼럼 제거\n",
    "\n",
    "df_undp = df.drop_duplicates(['title'],ignore_index = True)"
   ]
  },
  {
   "cell_type": "code",
   "execution_count": 48,
   "id": "fe4f95c7-8fb1-4f7c-82f1-70ff52929fa0",
   "metadata": {},
   "outputs": [
    {
     "name": "stdout",
     "output_type": "stream",
     "text": [
      "<class 'pandas.core.frame.DataFrame'>\n",
      "RangeIndex: 474 entries, 0 to 473\n",
      "Data columns (total 8 columns):\n",
      " #   Column     Non-Null Count  Dtype  \n",
      "---  ------     --------------  -----  \n",
      " 0   title      474 non-null    object \n",
      " 1   week       474 non-null    object \n",
      " 2   rank       474 non-null    int64  \n",
      " 3   genre      474 non-null    object \n",
      " 4   heart      474 non-null    float64\n",
      " 5   star_mean  474 non-null    float64\n",
      " 6   ep         474 non-null    int64  \n",
      " 7   view       474 non-null    float64\n",
      "dtypes: float64(3), int64(2), object(3)\n",
      "memory usage: 29.8+ KB\n"
     ]
    }
   ],
   "source": [
    "df_undp.info()"
   ]
  },
  {
   "cell_type": "code",
   "execution_count": 49,
   "id": "1b672de1-22db-4d64-8ecd-d267b706d014",
   "metadata": {},
   "outputs": [
    {
     "data": {
      "text/plain": [
       "(474, 8)"
      ]
     },
     "execution_count": 49,
     "metadata": {},
     "output_type": "execute_result"
    }
   ],
   "source": [
    "df_undp.shape"
   ]
  },
  {
   "cell_type": "code",
   "execution_count": 50,
   "id": "3718f11b-60f6-4109-961f-786c7b081f79",
   "metadata": {},
   "outputs": [],
   "source": [
    "# 6 저장\n",
    "df_undp.to_excel('america.xlsx')"
   ]
  },
  {
   "cell_type": "code",
   "execution_count": 51,
   "id": "060f5099-96b6-4654-85c6-a90962e236d1",
   "metadata": {},
   "outputs": [],
   "source": [
    "df_undp.to_csv('america.csv')"
   ]
  },
  {
   "cell_type": "code",
   "execution_count": null,
   "id": "22f3effb-4295-4aaa-97f6-610620e55e49",
   "metadata": {},
   "outputs": [],
   "source": []
  },
  {
   "cell_type": "code",
   "execution_count": 2,
   "id": "8569fd86-b3c9-4efc-830b-cdf7dc05ba93",
   "metadata": {
    "collapsed": true,
    "jupyter": {
     "outputs_hidden": true
    },
    "tags": []
   },
   "outputs": [
    {
     "ename": "NoSuchWindowException",
     "evalue": "Message: no such window: target window already closed\nfrom unknown error: web view not found\n  (Session info: chrome=108.0.5359.125)\nStacktrace:\nBacktrace:\n\t(No symbol) [0x0038F243]\n\t(No symbol) [0x00317FD1]\n\t(No symbol) [0x0020D04D]\n\t(No symbol) [0x001F2D7A]\n\t(No symbol) [0x0025BE7B]\n\t(No symbol) [0x0026C196]\n\t(No symbol) [0x00258386]\n\t(No symbol) [0x0023163C]\n\t(No symbol) [0x0023269D]\n\tGetHandleVerifier [0x00629A22+2655074]\n\tGetHandleVerifier [0x0061CA24+2601828]\n\tGetHandleVerifier [0x00438C0A+619850]\n\tGetHandleVerifier [0x00437830+614768]\n\t(No symbol) [0x003205FC]\n\t(No symbol) [0x00325968]\n\t(No symbol) [0x00325A55]\n\t(No symbol) [0x0033051B]\n\tBaseThreadInitThunk [0x76DE00F9+25]\n\tRtlGetAppContainerNamedObjectPath [0x77557BBE+286]\n\tRtlGetAppContainerNamedObjectPath [0x77557B8E+238]\n",
     "output_type": "error",
     "traceback": [
      "\u001b[1;31m---------------------------------------------------------------------------\u001b[0m",
      "\u001b[1;31mNoSuchWindowException\u001b[0m                     Traceback (most recent call last)",
      "\u001b[1;32m~\\AppData\\Local\\Temp/ipykernel_20232/2153579947.py\u001b[0m in \u001b[0;36m<module>\u001b[1;34m\u001b[0m\n\u001b[0;32m     12\u001b[0m \u001b[1;33m\u001b[0m\u001b[0m\n\u001b[0;32m     13\u001b[0m     \u001b[1;31m# 지우기\u001b[0m\u001b[1;33m\u001b[0m\u001b[1;33m\u001b[0m\u001b[0m\n\u001b[1;32m---> 14\u001b[1;33m     \u001b[0melem\u001b[0m \u001b[1;33m=\u001b[0m \u001b[0mbrowser\u001b[0m\u001b[1;33m.\u001b[0m\u001b[0mfind_element\u001b[0m\u001b[1;33m(\u001b[0m\u001b[0mby\u001b[0m\u001b[1;33m=\u001b[0m\u001b[0mBy\u001b[0m\u001b[1;33m.\u001b[0m\u001b[0mCSS_SELECTOR\u001b[0m\u001b[1;33m,\u001b[0m \u001b[0mvalue\u001b[0m\u001b[1;33m=\u001b[0m\u001b[1;34m\"#tsf > div:nth-child(1) > div.A8SBwf > div.RNNXgb > div > div.dRYYxd > div.BKRPef > div > span > svg\"\u001b[0m\u001b[1;33m)\u001b[0m\u001b[1;33m\u001b[0m\u001b[1;33m\u001b[0m\u001b[0m\n\u001b[0m\u001b[0;32m     15\u001b[0m     \u001b[0melem\u001b[0m\u001b[1;33m.\u001b[0m\u001b[0mclick\u001b[0m\u001b[1;33m(\u001b[0m\u001b[1;33m)\u001b[0m\u001b[1;33m\u001b[0m\u001b[1;33m\u001b[0m\u001b[0m\n\u001b[0;32m     16\u001b[0m \u001b[1;33m\u001b[0m\u001b[0m\n",
      "\u001b[1;32mC:\\Anaconda\\lib\\site-packages\\selenium\\webdriver\\remote\\webdriver.py\u001b[0m in \u001b[0;36mfind_element\u001b[1;34m(self, by, value)\u001b[0m\n\u001b[0;32m   1249\u001b[0m             \u001b[0mvalue\u001b[0m \u001b[1;33m=\u001b[0m \u001b[1;34m'[name=\"%s\"]'\u001b[0m \u001b[1;33m%\u001b[0m \u001b[0mvalue\u001b[0m\u001b[1;33m\u001b[0m\u001b[1;33m\u001b[0m\u001b[0m\n\u001b[0;32m   1250\u001b[0m \u001b[1;33m\u001b[0m\u001b[0m\n\u001b[1;32m-> 1251\u001b[1;33m         return self.execute(Command.FIND_ELEMENT, {\n\u001b[0m\u001b[0;32m   1252\u001b[0m             \u001b[1;34m'using'\u001b[0m\u001b[1;33m:\u001b[0m \u001b[0mby\u001b[0m\u001b[1;33m,\u001b[0m\u001b[1;33m\u001b[0m\u001b[1;33m\u001b[0m\u001b[0m\n\u001b[0;32m   1253\u001b[0m             'value': value})['value']\n",
      "\u001b[1;32mC:\\Anaconda\\lib\\site-packages\\selenium\\webdriver\\remote\\webdriver.py\u001b[0m in \u001b[0;36mexecute\u001b[1;34m(self, driver_command, params)\u001b[0m\n\u001b[0;32m    428\u001b[0m         \u001b[0mresponse\u001b[0m \u001b[1;33m=\u001b[0m \u001b[0mself\u001b[0m\u001b[1;33m.\u001b[0m\u001b[0mcommand_executor\u001b[0m\u001b[1;33m.\u001b[0m\u001b[0mexecute\u001b[0m\u001b[1;33m(\u001b[0m\u001b[0mdriver_command\u001b[0m\u001b[1;33m,\u001b[0m \u001b[0mparams\u001b[0m\u001b[1;33m)\u001b[0m\u001b[1;33m\u001b[0m\u001b[1;33m\u001b[0m\u001b[0m\n\u001b[0;32m    429\u001b[0m         \u001b[1;32mif\u001b[0m \u001b[0mresponse\u001b[0m\u001b[1;33m:\u001b[0m\u001b[1;33m\u001b[0m\u001b[1;33m\u001b[0m\u001b[0m\n\u001b[1;32m--> 430\u001b[1;33m             \u001b[0mself\u001b[0m\u001b[1;33m.\u001b[0m\u001b[0merror_handler\u001b[0m\u001b[1;33m.\u001b[0m\u001b[0mcheck_response\u001b[0m\u001b[1;33m(\u001b[0m\u001b[0mresponse\u001b[0m\u001b[1;33m)\u001b[0m\u001b[1;33m\u001b[0m\u001b[1;33m\u001b[0m\u001b[0m\n\u001b[0m\u001b[0;32m    431\u001b[0m             response['value'] = self._unwrap_value(\n\u001b[0;32m    432\u001b[0m                 response.get('value', None))\n",
      "\u001b[1;32mC:\\Anaconda\\lib\\site-packages\\selenium\\webdriver\\remote\\errorhandler.py\u001b[0m in \u001b[0;36mcheck_response\u001b[1;34m(self, response)\u001b[0m\n\u001b[0;32m    245\u001b[0m                 \u001b[0malert_text\u001b[0m \u001b[1;33m=\u001b[0m \u001b[0mvalue\u001b[0m\u001b[1;33m[\u001b[0m\u001b[1;34m'alert'\u001b[0m\u001b[1;33m]\u001b[0m\u001b[1;33m.\u001b[0m\u001b[0mget\u001b[0m\u001b[1;33m(\u001b[0m\u001b[1;34m'text'\u001b[0m\u001b[1;33m)\u001b[0m\u001b[1;33m\u001b[0m\u001b[1;33m\u001b[0m\u001b[0m\n\u001b[0;32m    246\u001b[0m             \u001b[1;32mraise\u001b[0m \u001b[0mexception_class\u001b[0m\u001b[1;33m(\u001b[0m\u001b[0mmessage\u001b[0m\u001b[1;33m,\u001b[0m \u001b[0mscreen\u001b[0m\u001b[1;33m,\u001b[0m \u001b[0mstacktrace\u001b[0m\u001b[1;33m,\u001b[0m \u001b[0malert_text\u001b[0m\u001b[1;33m)\u001b[0m  \u001b[1;31m# type: ignore[call-arg]  # mypy is not smart enough here\u001b[0m\u001b[1;33m\u001b[0m\u001b[1;33m\u001b[0m\u001b[0m\n\u001b[1;32m--> 247\u001b[1;33m         \u001b[1;32mraise\u001b[0m \u001b[0mexception_class\u001b[0m\u001b[1;33m(\u001b[0m\u001b[0mmessage\u001b[0m\u001b[1;33m,\u001b[0m \u001b[0mscreen\u001b[0m\u001b[1;33m,\u001b[0m \u001b[0mstacktrace\u001b[0m\u001b[1;33m)\u001b[0m\u001b[1;33m\u001b[0m\u001b[1;33m\u001b[0m\u001b[0m\n\u001b[0m\u001b[0;32m    248\u001b[0m \u001b[1;33m\u001b[0m\u001b[0m\n\u001b[0;32m    249\u001b[0m     \u001b[1;32mdef\u001b[0m \u001b[0m_value_or_default\u001b[0m\u001b[1;33m(\u001b[0m\u001b[0mself\u001b[0m\u001b[1;33m,\u001b[0m \u001b[0mobj\u001b[0m\u001b[1;33m:\u001b[0m \u001b[0mMapping\u001b[0m\u001b[1;33m[\u001b[0m\u001b[0m_KT\u001b[0m\u001b[1;33m,\u001b[0m \u001b[0m_VT\u001b[0m\u001b[1;33m]\u001b[0m\u001b[1;33m,\u001b[0m \u001b[0mkey\u001b[0m\u001b[1;33m:\u001b[0m \u001b[0m_KT\u001b[0m\u001b[1;33m,\u001b[0m \u001b[0mdefault\u001b[0m\u001b[1;33m:\u001b[0m \u001b[0m_VT\u001b[0m\u001b[1;33m)\u001b[0m \u001b[1;33m->\u001b[0m \u001b[0m_VT\u001b[0m\u001b[1;33m:\u001b[0m\u001b[1;33m\u001b[0m\u001b[1;33m\u001b[0m\u001b[0m\n",
      "\u001b[1;31mNoSuchWindowException\u001b[0m: Message: no such window: target window already closed\nfrom unknown error: web view not found\n  (Session info: chrome=108.0.5359.125)\nStacktrace:\nBacktrace:\n\t(No symbol) [0x0038F243]\n\t(No symbol) [0x00317FD1]\n\t(No symbol) [0x0020D04D]\n\t(No symbol) [0x001F2D7A]\n\t(No symbol) [0x0025BE7B]\n\t(No symbol) [0x0026C196]\n\t(No symbol) [0x00258386]\n\t(No symbol) [0x0023163C]\n\t(No symbol) [0x0023269D]\n\tGetHandleVerifier [0x00629A22+2655074]\n\tGetHandleVerifier [0x0061CA24+2601828]\n\tGetHandleVerifier [0x00438C0A+619850]\n\tGetHandleVerifier [0x00437830+614768]\n\t(No symbol) [0x003205FC]\n\t(No symbol) [0x00325968]\n\t(No symbol) [0x00325A55]\n\t(No symbol) [0x0033051B]\n\tBaseThreadInitThunk [0x76DE00F9+25]\n\tRtlGetAppContainerNamedObjectPath [0x77557BBE+286]\n\tRtlGetAppContainerNamedObjectPath [0x77557B8E+238]\n"
     ]
    }
   ],
   "source": [
    "# etc1. 구글 제목 자동 검색 코드 (소설 원작 여부 검색 시 빠르게 하기 위해 사용)\n",
    "df_undp = pd.read_csv(\"data/america.csv\")\n",
    "\n",
    "df_dict = df_undp.to_dict()\n",
    "dic_val = df_dict[\"title\"].values()\n",
    "dic_list = list(dic_val)\n",
    "\n",
    "browser = webdriver.Chrome()\n",
    "browser.get('https://www.google.com/search?q=0The+Lazy+Lord+Masters+the+Sword&rlz=1C1CHZN_koKR1021KR1021&biw=763&bih=646&sxsrf=ALiCzsbVZx7IkMYKQCDF4KsGdlExwwk8eg%3A1671265709315&ei=rX2dY63yEtuohwPmopuADQ&ved=0ahUKEwjt_Lb3nYD8AhVb1GEKHWbRBtAQ4dUDCA8&oq=0The+Lazy+Lord+Masters+the+Sword&gs_lcp=Cgxnd3Mtd2l6LXNlcnAQDDIHCCEQoAEQCjIHCCEQoAEQCjIHCCEQoAEQCjoHCCMQ6gIQJzoECCMQJzoICAAQgAQQsQM6BQguEIAEOgsIABCABBCxAxCDAToECAAQA0oECEEYAEoECEYYAEoECEEYAEoECEYYAEoECEEYAEoECEYYAFDtM1jlZWC8bGgMcAF4AIABoAGIAacCkgEDMC4ymAEAoAEBoAECsAEJwAEB&sclient=gws-wiz-serp')\n",
    "\n",
    "for title in dic_list:\n",
    "    \n",
    "    # 지우기\n",
    "    elem = browser.find_element(by=By.CSS_SELECTOR, value=\"#tsf > div:nth-child(1) > div.A8SBwf > div.RNNXgb > div > div.dRYYxd > div.BKRPef > div > span > svg\")\n",
    "    elem.click()\n",
    "    \n",
    "    # 검색어 쓰기\n",
    "    \n",
    "    elem = browser.find_element(by=By.CSS_SELECTOR, value=\"#tsf > div:nth-child(1) > div.A8SBwf > div.RNNXgb > div > div.a4bIc > input\") \n",
    "    elem.send_keys(title)\n",
    "    \n",
    "    # 돋보기  클릭\n",
    "    elem = browser.find_element(by=By.CSS_SELECTOR, value=\"#tsf > div:nth-child(1) > div.A8SBwf > div.RNNXgb > button > div > span > svg\")\n",
    "    elem.click()\n",
    "    \n",
    "    time.sleep(5)\n",
    "    \n",
    "\n",
    "    \n",
    "    #browser.back()"
   ]
  },
  {
   "cell_type": "code",
   "execution_count": 12,
   "id": "1849e1b9-703a-4e30-998d-a3a7e6d9b534",
   "metadata": {
    "collapsed": true,
    "jupyter": {
     "outputs_hidden": true
    },
    "tags": []
   },
   "outputs": [
    {
     "ename": "ElementClickInterceptedException",
     "evalue": "Message: element click intercepted: Element <button type=\"submit\" class=\"wds-button unified-search__input__button\" title=\"Search\">...</button> is not clickable at point (827, 52). Other element would receive the click: <iframe frameborder=\"0\" src=\"https://1f8623e768ee0490543c5916bd98125a.safeframe.googlesyndication.com/safeframe/1-0-40/html/container.html\" id=\"google_ads_iframe_/5441/wka1b.LB/top_leaderboard/desktop/ucp_desktop-fandom-search/_not_a_top1k_wiki-ent_0\" title=\"3rd party ad content\" name=\"\" scrolling=\"no\" marginwidth=\"0\" marginheight=\"0\" width=\"728\" height=\"90\" data-is-safeframe=\"true\" sandbox=\"allow-forms allow-popups allow-popups-to-escape-sandbox allow-same-origin allow-scripts allow-top-navigation-by-user-activation\" role=\"region\" aria-label=\"Advertisement\" tabindex=\"0\" data-google-container-id=\"1\" style=\"border: 0px; vertical-align: bottom; width: 728px; height: 90px;\" data-load-complete=\"true\"></iframe>\n  (Session info: chrome=108.0.5359.125)\nStacktrace:\nBacktrace:\n\t(No symbol) [0x0038F243]\n\t(No symbol) [0x00317FD1]\n\t(No symbol) [0x0020D04D]\n\t(No symbol) [0x002428B9]\n\t(No symbol) [0x002408CC]\n\t(No symbol) [0x0023E4CB]\n\t(No symbol) [0x0023D164]\n\t(No symbol) [0x002332A6]\n\t(No symbol) [0x0025858C]\n\t(No symbol) [0x00232BFF]\n\t(No symbol) [0x00258804]\n\t(No symbol) [0x0026C9EB]\n\t(No symbol) [0x00258386]\n\t(No symbol) [0x0023163C]\n\t(No symbol) [0x0023269D]\n\tGetHandleVerifier [0x00629A22+2655074]\n\tGetHandleVerifier [0x0061CA24+2601828]\n\tGetHandleVerifier [0x00438C0A+619850]\n\tGetHandleVerifier [0x00437830+614768]\n\t(No symbol) [0x003205FC]\n\t(No symbol) [0x00325968]\n\t(No symbol) [0x00325A55]\n\t(No symbol) [0x0033051B]\n\tBaseThreadInitThunk [0x76DE00F9+25]\n\tRtlGetAppContainerNamedObjectPath [0x77557BBE+286]\n\tRtlGetAppContainerNamedObjectPath [0x77557B8E+238]\n",
     "output_type": "error",
     "traceback": [
      "\u001b[1;31m---------------------------------------------------------------------------\u001b[0m",
      "\u001b[1;31mElementClickInterceptedException\u001b[0m          Traceback (most recent call last)",
      "\u001b[1;32m~\\AppData\\Local\\Temp/ipykernel_20232/668792040.py\u001b[0m in \u001b[0;36m<module>\u001b[1;34m\u001b[0m\n\u001b[0;32m     20\u001b[0m     \u001b[1;31m# 돋보기  클릭\u001b[0m\u001b[1;33m\u001b[0m\u001b[1;33m\u001b[0m\u001b[0m\n\u001b[0;32m     21\u001b[0m     \u001b[0melem\u001b[0m \u001b[1;33m=\u001b[0m \u001b[0mbrowser\u001b[0m\u001b[1;33m.\u001b[0m\u001b[0mfind_element\u001b[0m\u001b[1;33m(\u001b[0m\u001b[0mby\u001b[0m\u001b[1;33m=\u001b[0m\u001b[0mBy\u001b[0m\u001b[1;33m.\u001b[0m\u001b[0mCLASS_NAME\u001b[0m\u001b[1;33m,\u001b[0m \u001b[0mvalue\u001b[0m\u001b[1;33m=\u001b[0m\u001b[1;34m\"wds-button.unified-search__input__button\"\u001b[0m\u001b[1;33m)\u001b[0m\u001b[1;33m\u001b[0m\u001b[1;33m\u001b[0m\u001b[0m\n\u001b[1;32m---> 22\u001b[1;33m     \u001b[0melem\u001b[0m\u001b[1;33m.\u001b[0m\u001b[0mclick\u001b[0m\u001b[1;33m(\u001b[0m\u001b[1;33m)\u001b[0m\u001b[1;33m\u001b[0m\u001b[1;33m\u001b[0m\u001b[0m\n\u001b[0m\u001b[0;32m     23\u001b[0m \u001b[1;33m\u001b[0m\u001b[0m\n\u001b[0;32m     24\u001b[0m     \u001b[0mtime\u001b[0m\u001b[1;33m.\u001b[0m\u001b[0msleep\u001b[0m\u001b[1;33m(\u001b[0m\u001b[1;36m3\u001b[0m\u001b[1;33m)\u001b[0m\u001b[1;33m\u001b[0m\u001b[1;33m\u001b[0m\u001b[0m\n",
      "\u001b[1;32mC:\\Anaconda\\lib\\site-packages\\selenium\\webdriver\\remote\\webelement.py\u001b[0m in \u001b[0;36mclick\u001b[1;34m(self)\u001b[0m\n\u001b[0;32m     79\u001b[0m     \u001b[1;32mdef\u001b[0m \u001b[0mclick\u001b[0m\u001b[1;33m(\u001b[0m\u001b[0mself\u001b[0m\u001b[1;33m)\u001b[0m \u001b[1;33m->\u001b[0m \u001b[1;32mNone\u001b[0m\u001b[1;33m:\u001b[0m\u001b[1;33m\u001b[0m\u001b[1;33m\u001b[0m\u001b[0m\n\u001b[0;32m     80\u001b[0m         \u001b[1;34m\"\"\"Clicks the element.\"\"\"\u001b[0m\u001b[1;33m\u001b[0m\u001b[1;33m\u001b[0m\u001b[0m\n\u001b[1;32m---> 81\u001b[1;33m         \u001b[0mself\u001b[0m\u001b[1;33m.\u001b[0m\u001b[0m_execute\u001b[0m\u001b[1;33m(\u001b[0m\u001b[0mCommand\u001b[0m\u001b[1;33m.\u001b[0m\u001b[0mCLICK_ELEMENT\u001b[0m\u001b[1;33m)\u001b[0m\u001b[1;33m\u001b[0m\u001b[1;33m\u001b[0m\u001b[0m\n\u001b[0m\u001b[0;32m     82\u001b[0m \u001b[1;33m\u001b[0m\u001b[0m\n\u001b[0;32m     83\u001b[0m     \u001b[1;32mdef\u001b[0m \u001b[0msubmit\u001b[0m\u001b[1;33m(\u001b[0m\u001b[0mself\u001b[0m\u001b[1;33m)\u001b[0m\u001b[1;33m:\u001b[0m\u001b[1;33m\u001b[0m\u001b[1;33m\u001b[0m\u001b[0m\n",
      "\u001b[1;32mC:\\Anaconda\\lib\\site-packages\\selenium\\webdriver\\remote\\webelement.py\u001b[0m in \u001b[0;36m_execute\u001b[1;34m(self, command, params)\u001b[0m\n\u001b[0;32m    738\u001b[0m             \u001b[0mparams\u001b[0m \u001b[1;33m=\u001b[0m \u001b[1;33m{\u001b[0m\u001b[1;33m}\u001b[0m\u001b[1;33m\u001b[0m\u001b[1;33m\u001b[0m\u001b[0m\n\u001b[0;32m    739\u001b[0m         \u001b[0mparams\u001b[0m\u001b[1;33m[\u001b[0m\u001b[1;34m'id'\u001b[0m\u001b[1;33m]\u001b[0m \u001b[1;33m=\u001b[0m \u001b[0mself\u001b[0m\u001b[1;33m.\u001b[0m\u001b[0m_id\u001b[0m\u001b[1;33m\u001b[0m\u001b[1;33m\u001b[0m\u001b[0m\n\u001b[1;32m--> 740\u001b[1;33m         \u001b[1;32mreturn\u001b[0m \u001b[0mself\u001b[0m\u001b[1;33m.\u001b[0m\u001b[0m_parent\u001b[0m\u001b[1;33m.\u001b[0m\u001b[0mexecute\u001b[0m\u001b[1;33m(\u001b[0m\u001b[0mcommand\u001b[0m\u001b[1;33m,\u001b[0m \u001b[0mparams\u001b[0m\u001b[1;33m)\u001b[0m\u001b[1;33m\u001b[0m\u001b[1;33m\u001b[0m\u001b[0m\n\u001b[0m\u001b[0;32m    741\u001b[0m \u001b[1;33m\u001b[0m\u001b[0m\n\u001b[0;32m    742\u001b[0m     \u001b[1;32mdef\u001b[0m \u001b[0mfind_element\u001b[0m\u001b[1;33m(\u001b[0m\u001b[0mself\u001b[0m\u001b[1;33m,\u001b[0m \u001b[0mby\u001b[0m\u001b[1;33m=\u001b[0m\u001b[0mBy\u001b[0m\u001b[1;33m.\u001b[0m\u001b[0mID\u001b[0m\u001b[1;33m,\u001b[0m \u001b[0mvalue\u001b[0m\u001b[1;33m=\u001b[0m\u001b[1;32mNone\u001b[0m\u001b[1;33m)\u001b[0m\u001b[1;33m:\u001b[0m\u001b[1;33m\u001b[0m\u001b[1;33m\u001b[0m\u001b[0m\n",
      "\u001b[1;32mC:\\Anaconda\\lib\\site-packages\\selenium\\webdriver\\remote\\webdriver.py\u001b[0m in \u001b[0;36mexecute\u001b[1;34m(self, driver_command, params)\u001b[0m\n\u001b[0;32m    428\u001b[0m         \u001b[0mresponse\u001b[0m \u001b[1;33m=\u001b[0m \u001b[0mself\u001b[0m\u001b[1;33m.\u001b[0m\u001b[0mcommand_executor\u001b[0m\u001b[1;33m.\u001b[0m\u001b[0mexecute\u001b[0m\u001b[1;33m(\u001b[0m\u001b[0mdriver_command\u001b[0m\u001b[1;33m,\u001b[0m \u001b[0mparams\u001b[0m\u001b[1;33m)\u001b[0m\u001b[1;33m\u001b[0m\u001b[1;33m\u001b[0m\u001b[0m\n\u001b[0;32m    429\u001b[0m         \u001b[1;32mif\u001b[0m \u001b[0mresponse\u001b[0m\u001b[1;33m:\u001b[0m\u001b[1;33m\u001b[0m\u001b[1;33m\u001b[0m\u001b[0m\n\u001b[1;32m--> 430\u001b[1;33m             \u001b[0mself\u001b[0m\u001b[1;33m.\u001b[0m\u001b[0merror_handler\u001b[0m\u001b[1;33m.\u001b[0m\u001b[0mcheck_response\u001b[0m\u001b[1;33m(\u001b[0m\u001b[0mresponse\u001b[0m\u001b[1;33m)\u001b[0m\u001b[1;33m\u001b[0m\u001b[1;33m\u001b[0m\u001b[0m\n\u001b[0m\u001b[0;32m    431\u001b[0m             response['value'] = self._unwrap_value(\n\u001b[0;32m    432\u001b[0m                 response.get('value', None))\n",
      "\u001b[1;32mC:\\Anaconda\\lib\\site-packages\\selenium\\webdriver\\remote\\errorhandler.py\u001b[0m in \u001b[0;36mcheck_response\u001b[1;34m(self, response)\u001b[0m\n\u001b[0;32m    245\u001b[0m                 \u001b[0malert_text\u001b[0m \u001b[1;33m=\u001b[0m \u001b[0mvalue\u001b[0m\u001b[1;33m[\u001b[0m\u001b[1;34m'alert'\u001b[0m\u001b[1;33m]\u001b[0m\u001b[1;33m.\u001b[0m\u001b[0mget\u001b[0m\u001b[1;33m(\u001b[0m\u001b[1;34m'text'\u001b[0m\u001b[1;33m)\u001b[0m\u001b[1;33m\u001b[0m\u001b[1;33m\u001b[0m\u001b[0m\n\u001b[0;32m    246\u001b[0m             \u001b[1;32mraise\u001b[0m \u001b[0mexception_class\u001b[0m\u001b[1;33m(\u001b[0m\u001b[0mmessage\u001b[0m\u001b[1;33m,\u001b[0m \u001b[0mscreen\u001b[0m\u001b[1;33m,\u001b[0m \u001b[0mstacktrace\u001b[0m\u001b[1;33m,\u001b[0m \u001b[0malert_text\u001b[0m\u001b[1;33m)\u001b[0m  \u001b[1;31m# type: ignore[call-arg]  # mypy is not smart enough here\u001b[0m\u001b[1;33m\u001b[0m\u001b[1;33m\u001b[0m\u001b[0m\n\u001b[1;32m--> 247\u001b[1;33m         \u001b[1;32mraise\u001b[0m \u001b[0mexception_class\u001b[0m\u001b[1;33m(\u001b[0m\u001b[0mmessage\u001b[0m\u001b[1;33m,\u001b[0m \u001b[0mscreen\u001b[0m\u001b[1;33m,\u001b[0m \u001b[0mstacktrace\u001b[0m\u001b[1;33m)\u001b[0m\u001b[1;33m\u001b[0m\u001b[1;33m\u001b[0m\u001b[0m\n\u001b[0m\u001b[0;32m    248\u001b[0m \u001b[1;33m\u001b[0m\u001b[0m\n\u001b[0;32m    249\u001b[0m     \u001b[1;32mdef\u001b[0m \u001b[0m_value_or_default\u001b[0m\u001b[1;33m(\u001b[0m\u001b[0mself\u001b[0m\u001b[1;33m,\u001b[0m \u001b[0mobj\u001b[0m\u001b[1;33m:\u001b[0m \u001b[0mMapping\u001b[0m\u001b[1;33m[\u001b[0m\u001b[0m_KT\u001b[0m\u001b[1;33m,\u001b[0m \u001b[0m_VT\u001b[0m\u001b[1;33m]\u001b[0m\u001b[1;33m,\u001b[0m \u001b[0mkey\u001b[0m\u001b[1;33m:\u001b[0m \u001b[0m_KT\u001b[0m\u001b[1;33m,\u001b[0m \u001b[0mdefault\u001b[0m\u001b[1;33m:\u001b[0m \u001b[0m_VT\u001b[0m\u001b[1;33m)\u001b[0m \u001b[1;33m->\u001b[0m \u001b[0m_VT\u001b[0m\u001b[1;33m:\u001b[0m\u001b[1;33m\u001b[0m\u001b[1;33m\u001b[0m\u001b[0m\n",
      "\u001b[1;31mElementClickInterceptedException\u001b[0m: Message: element click intercepted: Element <button type=\"submit\" class=\"wds-button unified-search__input__button\" title=\"Search\">...</button> is not clickable at point (827, 52). Other element would receive the click: <iframe frameborder=\"0\" src=\"https://1f8623e768ee0490543c5916bd98125a.safeframe.googlesyndication.com/safeframe/1-0-40/html/container.html\" id=\"google_ads_iframe_/5441/wka1b.LB/top_leaderboard/desktop/ucp_desktop-fandom-search/_not_a_top1k_wiki-ent_0\" title=\"3rd party ad content\" name=\"\" scrolling=\"no\" marginwidth=\"0\" marginheight=\"0\" width=\"728\" height=\"90\" data-is-safeframe=\"true\" sandbox=\"allow-forms allow-popups allow-popups-to-escape-sandbox allow-same-origin allow-scripts allow-top-navigation-by-user-activation\" role=\"region\" aria-label=\"Advertisement\" tabindex=\"0\" data-google-container-id=\"1\" style=\"border: 0px; vertical-align: bottom; width: 728px; height: 90px;\" data-load-complete=\"true\"></iframe>\n  (Session info: chrome=108.0.5359.125)\nStacktrace:\nBacktrace:\n\t(No symbol) [0x0038F243]\n\t(No symbol) [0x00317FD1]\n\t(No symbol) [0x0020D04D]\n\t(No symbol) [0x002428B9]\n\t(No symbol) [0x002408CC]\n\t(No symbol) [0x0023E4CB]\n\t(No symbol) [0x0023D164]\n\t(No symbol) [0x002332A6]\n\t(No symbol) [0x0025858C]\n\t(No symbol) [0x00232BFF]\n\t(No symbol) [0x00258804]\n\t(No symbol) [0x0026C9EB]\n\t(No symbol) [0x00258386]\n\t(No symbol) [0x0023163C]\n\t(No symbol) [0x0023269D]\n\tGetHandleVerifier [0x00629A22+2655074]\n\tGetHandleVerifier [0x0061CA24+2601828]\n\tGetHandleVerifier [0x00438C0A+619850]\n\tGetHandleVerifier [0x00437830+614768]\n\t(No symbol) [0x003205FC]\n\t(No symbol) [0x00325968]\n\t(No symbol) [0x00325A55]\n\t(No symbol) [0x0033051B]\n\tBaseThreadInitThunk [0x76DE00F9+25]\n\tRtlGetAppContainerNamedObjectPath [0x77557BBE+286]\n\tRtlGetAppContainerNamedObjectPath [0x77557B8E+238]\n"
     ]
    }
   ],
   "source": [
    "# etc2. 제목 자동 검색 코드 (소설 원작 여부 검색 시 빠르게 하기 위해 사용)\n",
    "df_undp = pd.read_csv(\"data/korea.csv\")\n",
    "\n",
    "df_dict = df_undp[23:].to_dict()\n",
    "dic_val = df_dict[\"title\"].values()\n",
    "dic_list = list(dic_val)\n",
    "\n",
    "browser = webdriver.Chrome()\n",
    "#browser.get('https://webtoon.fandom.com/wiki/Special:Search?query=+&scope=internal&contentType=&ns%5B0%5D=0&ns%5B1%5D=2900')\n",
    "\n",
    "for title in dic_list:\n",
    "    # 되돌아가기\n",
    "    browser.get('https://webtoon.fandom.com/wiki/Special:Search?query=+&scope=internal&contentType=&ns%5B0%5D=0&ns%5B1%5D=2900')\n",
    "    time.sleep(2)\n",
    "    \n",
    "    # 검색어 쓰기\n",
    "    elem = browser.find_element(by=By.CLASS_NAME, value=\"unified-search__input__query\") \n",
    "    elem.send_keys(title)\n",
    "    \n",
    "    # 돋보기  클릭\n",
    "    elem = browser.find_element(by=By.CLASS_NAME, value=\"wds-button.unified-search__input__button\")\n",
    "    elem.click()\n",
    "    \n",
    "    time.sleep(3)\n",
    "    \n",
    "    "
   ]
  },
  {
   "cell_type": "code",
   "execution_count": null,
   "id": "1309f78b-8a16-4bae-9346-ad35ce8aeb7b",
   "metadata": {},
   "outputs": [],
   "source": []
  }
 ],
 "metadata": {
  "kernelspec": {
   "display_name": "Python 3 (ipykernel)",
   "language": "python",
   "name": "python3"
  },
  "language_info": {
   "codemirror_mode": {
    "name": "ipython",
    "version": 3
   },
   "file_extension": ".py",
   "mimetype": "text/x-python",
   "name": "python",
   "nbconvert_exporter": "python",
   "pygments_lexer": "ipython3",
   "version": "3.9.7"
  }
 },
 "nbformat": 4,
 "nbformat_minor": 5
}
